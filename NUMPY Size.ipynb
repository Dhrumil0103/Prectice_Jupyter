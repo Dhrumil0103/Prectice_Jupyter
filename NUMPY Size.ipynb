{
 "cells": [
  {
   "cell_type": "code",
   "execution_count": 2,
   "id": "ec000b21",
   "metadata": {},
   "outputs": [],
   "source": [
    "import numpy as np"
   ]
  },
  {
   "cell_type": "code",
   "execution_count": 2,
   "id": "2ea05b06",
   "metadata": {},
   "outputs": [
    {
     "name": "stdout",
     "output_type": "stream",
     "text": [
      "[3 7 9 4]\n"
     ]
    }
   ],
   "source": [
    "arrt = np.array([3,7,9,4])\n",
    "print(arrt)"
   ]
  },
  {
   "cell_type": "code",
   "execution_count": 3,
   "id": "91558981",
   "metadata": {},
   "outputs": [
    {
     "data": {
      "text/plain": [
       "numpy.ndarray"
      ]
     },
     "execution_count": 3,
     "metadata": {},
     "output_type": "execute_result"
    }
   ],
   "source": [
    "type(arrt)"
   ]
  },
  {
   "cell_type": "code",
   "execution_count": 4,
   "id": "35ebf651",
   "metadata": {},
   "outputs": [
    {
     "data": {
      "text/plain": [
       "1"
      ]
     },
     "execution_count": 4,
     "metadata": {},
     "output_type": "execute_result"
    }
   ],
   "source": [
    "arrt.ndim"
   ]
  },
  {
   "cell_type": "code",
   "execution_count": 5,
   "id": "27ee4a55",
   "metadata": {},
   "outputs": [
    {
     "data": {
      "text/plain": [
       "(4,)"
      ]
     },
     "execution_count": 5,
     "metadata": {},
     "output_type": "execute_result"
    }
   ],
   "source": [
    "arrt.shape"
   ]
  },
  {
   "cell_type": "code",
   "execution_count": 4,
   "id": "4f25da6c",
   "metadata": {},
   "outputs": [
    {
     "name": "stdout",
     "output_type": "stream",
     "text": [
      "[[3 7 1 6]\n",
      " [4 6 9 7]]\n",
      "Dimension:  2\n"
     ]
    }
   ],
   "source": [
    "arrt_2 = np.array([[3,7,1,6],[4,6,9,7]])\n",
    "print(arrt_2)\n",
    "print(\"Dimension: \", arrt_2.ndim)"
   ]
  },
  {
   "cell_type": "code",
   "execution_count": 5,
   "id": "9ca12aae",
   "metadata": {},
   "outputs": [
    {
     "name": "stdout",
     "output_type": "stream",
     "text": [
      "(2, 4)\n"
     ]
    }
   ],
   "source": [
    "print(arrt_2.shape)"
   ]
  },
  {
   "cell_type": "code",
   "execution_count": 13,
   "id": "58b8a856",
   "metadata": {},
   "outputs": [
    {
     "name": "stdout",
     "output_type": "stream",
     "text": [
      "[[[3 6 7 4]\n",
      "  [5 6 9 7]]\n",
      "\n",
      " [[5 7 1 6]\n",
      "  [5 6 8 3]]]\n",
      "Dimension:  3\n",
      "Shape:  (2, 2, 4)\n"
     ]
    }
   ],
   "source": [
    "arrt3 = np.array([[[3,6,7,4],[5,6,9,7]],[[5,7,1,6],[5,6,8,3]]])\n",
    "print(arrt3)\n",
    "print(\"Dimension: \",arrt3.ndim)\n",
    "print(\"Shape: \",arrt3.shape)"
   ]
  },
  {
   "cell_type": "code",
   "execution_count": 20,
   "id": "c038371c",
   "metadata": {},
   "outputs": [
    {
     "name": "stdout",
     "output_type": "stream",
     "text": [
      "[[[[6 4 7 2]\n",
      "   [4 9 7 2]]\n",
      "\n",
      "  [[6 8 2 1]\n",
      "   [4 3 7 9]]]]\n",
      "Dimension:  4\n",
      "Shape:  (1, 2, 2, 4)\n"
     ]
    }
   ],
   "source": [
    "arrt4 = np.array([[[6,4,7,2],[4,9,7,2]],[[6,8,2,1],[4,3,7,9]]],ndmin = 4)\n",
    "print(arrt4)\n",
    "print(\"Dimension: \",arrt4.ndim)\n",
    "print(\"Shape: \",arrt4.shape)"
   ]
  },
  {
   "cell_type": "code",
   "execution_count": 21,
   "id": "6133ea96",
   "metadata": {},
   "outputs": [
    {
     "name": "stdout",
     "output_type": "stream",
     "text": [
      "[4 7 3 5]\n"
     ]
    }
   ],
   "source": [
    "nm = np.array([4,7,3,5])\n",
    "print(nm)"
   ]
  },
  {
   "cell_type": "code",
   "execution_count": 24,
   "id": "f4e49154",
   "metadata": {},
   "outputs": [
    {
     "name": "stdout",
     "output_type": "stream",
     "text": [
      "[[[6 7 3 9]]]\n"
     ]
    }
   ],
   "source": [
    "nm = np.array([6,7,3,9], ndmin = 3)\n",
    "print(nm)"
   ]
  },
  {
   "cell_type": "code",
   "execution_count": 25,
   "id": "81a9fa09",
   "metadata": {},
   "outputs": [
    {
     "name": "stdout",
     "output_type": "stream",
     "text": [
      "(1, 1, 4)\n"
     ]
    }
   ],
   "source": [
    "print(nm.shape)"
   ]
  },
  {
   "cell_type": "code",
   "execution_count": 27,
   "id": "32315882",
   "metadata": {},
   "outputs": [
    {
     "name": "stdout",
     "output_type": "stream",
     "text": [
      "[list([1, 6, 4, 2]) list([7, 8, 3])]\n"
     ]
    },
    {
     "name": "stderr",
     "output_type": "stream",
     "text": [
      "C:\\Users\\Rutvi\\AppData\\Local\\Temp\\ipykernel_20720\\3478528846.py:1: VisibleDeprecationWarning: Creating an ndarray from ragged nested sequences (which is a list-or-tuple of lists-or-tuples-or ndarrays with different lengths or shapes) is deprecated. If you meant to do this, you must specify 'dtype=object' when creating the ndarray.\n",
      "  rt = np.array([[1,6,4,2],[7,8,3]])\n"
     ]
    }
   ],
   "source": [
    "rt = np.array([[1,6,4,2],[7,8,3]])\n",
    "print(rt)"
   ]
  },
  {
   "cell_type": "code",
   "execution_count": 28,
   "id": "ebe6add0",
   "metadata": {},
   "outputs": [
    {
     "data": {
      "text/plain": [
       "numpy.ndarray"
      ]
     },
     "execution_count": 28,
     "metadata": {},
     "output_type": "execute_result"
    }
   ],
   "source": [
    "type(rt)"
   ]
  },
  {
   "cell_type": "code",
   "execution_count": 29,
   "id": "b6199b35",
   "metadata": {},
   "outputs": [
    {
     "name": "stdout",
     "output_type": "stream",
     "text": [
      "[3 8 6 4]\n"
     ]
    }
   ],
   "source": [
    "#Reshape\n",
    "arrt_re = np.array([3,8,6,4])\n",
    "print(arrt_re)"
   ]
  },
  {
   "cell_type": "code",
   "execution_count": 30,
   "id": "aa98021b",
   "metadata": {},
   "outputs": [
    {
     "name": "stdout",
     "output_type": "stream",
     "text": [
      "[[3]\n",
      " [8]\n",
      " [6]\n",
      " [4]]\n"
     ]
    }
   ],
   "source": [
    "arrt_re_r = arrt_re.reshape(4,1)\n",
    "print(arrt_re_r)"
   ]
  },
  {
   "cell_type": "code",
   "execution_count": 31,
   "id": "28f0f9f9",
   "metadata": {},
   "outputs": [
    {
     "name": "stdout",
     "output_type": "stream",
     "text": [
      "[[3 8]\n",
      " [6 4]]\n"
     ]
    }
   ],
   "source": [
    "arrt_re_r = arrt_re.reshape(2,2)\n",
    "print(arrt_re_r)"
   ]
  },
  {
   "cell_type": "code",
   "execution_count": 38,
   "id": "dd88fe2d",
   "metadata": {},
   "outputs": [
    {
     "name": "stdout",
     "output_type": "stream",
     "text": [
      "[12 24  9 15]\n"
     ]
    }
   ],
   "source": [
    "va = np.array([4,8,3,5])\n",
    "\n",
    "sd = va * 3\n",
    "print(sd)"
   ]
  },
  {
   "cell_type": "code",
   "execution_count": 39,
   "id": "19704269",
   "metadata": {},
   "outputs": [
    {
     "name": "stdout",
     "output_type": "stream",
     "text": [
      "[[ 5  8  9 11]\n",
      " [ 4  6  8 10]]\n"
     ]
    }
   ],
   "source": [
    "vn = np.array([[3,6,7,9],[2,4,6,8]])\n",
    "print(vn + 2)"
   ]
  },
  {
   "cell_type": "code",
   "execution_count": 40,
   "id": "2e758aa3",
   "metadata": {},
   "outputs": [
    {
     "name": "stdout",
     "output_type": "stream",
     "text": [
      "[[12 48 21 45]\n",
      " [ 8 32 18 40]]\n"
     ]
    }
   ],
   "source": [
    "tyy = va * vn\n",
    "print(tyy)"
   ]
  },
  {
   "cell_type": "code",
   "execution_count": 41,
   "id": "2a44e4db",
   "metadata": {},
   "outputs": [
    {
     "name": "stdout",
     "output_type": "stream",
     "text": [
      "[[15 30 16 24]\n",
      " [14 28 15 23]]\n"
     ]
    }
   ],
   "source": [
    "print(np.add(sd,vn))"
   ]
  },
  {
   "cell_type": "code",
   "execution_count": 42,
   "id": "3f47b152",
   "metadata": {},
   "outputs": [
    {
     "name": "stdout",
     "output_type": "stream",
     "text": [
      "[[ 36 144  63 135]\n",
      " [ 24  96  54 120]]\n"
     ]
    }
   ],
   "source": [
    "print(np.multiply(sd,vn))"
   ]
  },
  {
   "cell_type": "code",
   "execution_count": 43,
   "id": "2ae88e30",
   "metadata": {},
   "outputs": [
    {
     "name": "stdout",
     "output_type": "stream",
     "text": [
      "[3 7 5 4]\n"
     ]
    }
   ],
   "source": [
    "nm_s = np.array([3,7,5,4])\n",
    "print(nm_s)"
   ]
  },
  {
   "cell_type": "code",
   "execution_count": 44,
   "id": "3f52cb1d",
   "metadata": {},
   "outputs": [
    {
     "name": "stdout",
     "output_type": "stream",
     "text": [
      "4\n"
     ]
    }
   ],
   "source": [
    "print(nm_s.size)"
   ]
  },
  {
   "cell_type": "code",
   "execution_count": 46,
   "id": "ab9d48e0",
   "metadata": {},
   "outputs": [
    {
     "name": "stdout",
     "output_type": "stream",
     "text": [
      "[[9 4 6]\n",
      " [9 6 4]]\n",
      "\n",
      "ELEMENT SIZE:  6\n"
     ]
    }
   ],
   "source": [
    "bn_s = np.array([[9,4,6],[9,6,4]])\n",
    "print(bn_s)\n",
    "print()\n",
    "print(\"ELEMENT SIZE: \",bn_s.size)"
   ]
  },
  {
   "cell_type": "code",
   "execution_count": 3,
   "id": "dba2a16d",
   "metadata": {},
   "outputs": [
    {
     "name": "stdout",
     "output_type": "stream",
     "text": [
      "[[2 5 7]\n",
      " [6 9 3]]\n"
     ]
    }
   ],
   "source": [
    "rt = np.array([[2,5,7],[6,9,3]])\n",
    "print(rt)"
   ]
  },
  {
   "cell_type": "code",
   "execution_count": 6,
   "id": "dc9e755d",
   "metadata": {},
   "outputs": [
    {
     "name": "stdout",
     "output_type": "stream",
     "text": [
      "[[2]\n",
      " [5]\n",
      " [7]\n",
      " [6]\n",
      " [9]\n",
      " [3]]\n"
     ]
    }
   ],
   "source": [
    "print(rt.reshape(6,1))"
   ]
  },
  {
   "cell_type": "code",
   "execution_count": 7,
   "id": "db1707ae",
   "metadata": {},
   "outputs": [
    {
     "name": "stdout",
     "output_type": "stream",
     "text": [
      "[[2 5]\n",
      " [7 6]\n",
      " [9 3]]\n"
     ]
    }
   ],
   "source": [
    "print(rt.reshape(3,2))"
   ]
  },
  {
   "cell_type": "code",
   "execution_count": 8,
   "id": "c2435770",
   "metadata": {},
   "outputs": [
    {
     "name": "stdout",
     "output_type": "stream",
     "text": [
      "[[2 5 7]\n",
      " [6 9 3]]\n"
     ]
    }
   ],
   "source": [
    "print(rt.reshape(2,3))"
   ]
  },
  {
   "cell_type": "code",
   "execution_count": 13,
   "id": "26a47fd4",
   "metadata": {},
   "outputs": [
    {
     "name": "stdout",
     "output_type": "stream",
     "text": [
      "(1+2j)\n"
     ]
    }
   ],
   "source": [
    "print(1.0 + 2.0j)"
   ]
  },
  {
   "cell_type": "code",
   "execution_count": null,
   "id": "67bee9b2",
   "metadata": {},
   "outputs": [],
   "source": []
  }
 ],
 "metadata": {
  "kernelspec": {
   "display_name": "Python 3 (ipykernel)",
   "language": "python",
   "name": "python3"
  },
  "language_info": {
   "codemirror_mode": {
    "name": "ipython",
    "version": 3
   },
   "file_extension": ".py",
   "mimetype": "text/x-python",
   "name": "python",
   "nbconvert_exporter": "python",
   "pygments_lexer": "ipython3",
   "version": "3.9.13"
  }
 },
 "nbformat": 4,
 "nbformat_minor": 5
}
