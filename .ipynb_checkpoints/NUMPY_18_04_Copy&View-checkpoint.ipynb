{
 "cells": [
  {
   "cell_type": "code",
   "execution_count": 1,
   "id": "759b5ac9",
   "metadata": {},
   "outputs": [],
   "source": [
    "import numpy as np"
   ]
  },
  {
   "cell_type": "code",
   "execution_count": 2,
   "id": "fbfa6be6",
   "metadata": {},
   "outputs": [
    {
     "name": "stdout",
     "output_type": "stream",
     "text": [
      "[[3 7 9]\n",
      " [4 8 6]]\n"
     ]
    }
   ],
   "source": [
    "tyy = np.array([[3,7,9],[4,8,6]])\n",
    "print(tyy)"
   ]
  },
  {
   "cell_type": "code",
   "execution_count": 4,
   "id": "c099d258",
   "metadata": {},
   "outputs": [
    {
     "name": "stdout",
     "output_type": "stream",
     "text": [
      "(2, 3)\n"
     ]
    }
   ],
   "source": [
    "print(tyy.shape)"
   ]
  },
  {
   "cell_type": "code",
   "execution_count": 5,
   "id": "b8736969",
   "metadata": {},
   "outputs": [
    {
     "name": "stdout",
     "output_type": "stream",
     "text": [
      "[[3 7]\n",
      " [9 4]\n",
      " [8 6]]\n"
     ]
    }
   ],
   "source": [
    "print(tyy.reshape(3,2))"
   ]
  },
  {
   "cell_type": "code",
   "execution_count": 6,
   "id": "31368195",
   "metadata": {},
   "outputs": [
    {
     "name": "stdout",
     "output_type": "stream",
     "text": [
      "[[3 7 9]\n",
      " [4 8 6]]\n"
     ]
    }
   ],
   "source": [
    "print(tyy)"
   ]
  },
  {
   "cell_type": "code",
   "execution_count": 7,
   "id": "d2816d08",
   "metadata": {},
   "outputs": [
    {
     "name": "stdout",
     "output_type": "stream",
     "text": [
      "[[3]\n",
      " [7]\n",
      " [9]\n",
      " [4]\n",
      " [8]\n",
      " [6]]\n"
     ]
    }
   ],
   "source": [
    "print(tyy.reshape(6,1))"
   ]
  },
  {
   "cell_type": "code",
   "execution_count": 8,
   "id": "369ca0ae",
   "metadata": {},
   "outputs": [
    {
     "name": "stdout",
     "output_type": "stream",
     "text": [
      "[[3 7 9 4 8 6]]\n"
     ]
    }
   ],
   "source": [
    "print(tyy.reshape(1,6))"
   ]
  },
  {
   "cell_type": "code",
   "execution_count": 9,
   "id": "217b7e83",
   "metadata": {},
   "outputs": [
    {
     "name": "stdout",
     "output_type": "stream",
     "text": [
      "[[ 9 21 27]\n",
      " [12 24 18]]\n"
     ]
    }
   ],
   "source": [
    "print(tyy*3)"
   ]
  },
  {
   "cell_type": "code",
   "execution_count": 10,
   "id": "8495f8d8",
   "metadata": {},
   "outputs": [],
   "source": [
    "gh = np.array([2,9,6,4])\n",
    "t = gh.copy()"
   ]
  },
  {
   "cell_type": "code",
   "execution_count": 11,
   "id": "4cbf702d",
   "metadata": {},
   "outputs": [
    {
     "data": {
      "text/plain": [
       "array([2, 9, 6, 4])"
      ]
     },
     "execution_count": 11,
     "metadata": {},
     "output_type": "execute_result"
    }
   ],
   "source": [
    "gh"
   ]
  },
  {
   "cell_type": "code",
   "execution_count": 12,
   "id": "4266fe6d",
   "metadata": {},
   "outputs": [
    {
     "data": {
      "text/plain": [
       "array([2, 9, 6, 4])"
      ]
     },
     "execution_count": 12,
     "metadata": {},
     "output_type": "execute_result"
    }
   ],
   "source": [
    "t"
   ]
  },
  {
   "cell_type": "code",
   "execution_count": 13,
   "id": "0837d96e",
   "metadata": {},
   "outputs": [],
   "source": [
    "t[2] = 3"
   ]
  },
  {
   "cell_type": "code",
   "execution_count": 14,
   "id": "6a94b74b",
   "metadata": {},
   "outputs": [
    {
     "data": {
      "text/plain": [
       "array([2, 9, 6, 4])"
      ]
     },
     "execution_count": 14,
     "metadata": {},
     "output_type": "execute_result"
    }
   ],
   "source": [
    "gh"
   ]
  },
  {
   "cell_type": "code",
   "execution_count": 15,
   "id": "8552dd6b",
   "metadata": {},
   "outputs": [
    {
     "data": {
      "text/plain": [
       "array([2, 9, 3, 4])"
      ]
     },
     "execution_count": 15,
     "metadata": {},
     "output_type": "execute_result"
    }
   ],
   "source": [
    "t"
   ]
  },
  {
   "cell_type": "code",
   "execution_count": 16,
   "id": "d39a70cd",
   "metadata": {},
   "outputs": [],
   "source": [
    "gh_2 = np.array([7,2,6,4])\n",
    "t_2 = gh_2.view()"
   ]
  },
  {
   "cell_type": "code",
   "execution_count": 17,
   "id": "0709992d",
   "metadata": {},
   "outputs": [
    {
     "data": {
      "text/plain": [
       "array([7, 2, 6, 4])"
      ]
     },
     "execution_count": 17,
     "metadata": {},
     "output_type": "execute_result"
    }
   ],
   "source": [
    "gh_2"
   ]
  },
  {
   "cell_type": "code",
   "execution_count": 18,
   "id": "a2df2cde",
   "metadata": {},
   "outputs": [
    {
     "data": {
      "text/plain": [
       "array([7, 2, 6, 4])"
      ]
     },
     "execution_count": 18,
     "metadata": {},
     "output_type": "execute_result"
    }
   ],
   "source": [
    "t_2"
   ]
  },
  {
   "cell_type": "code",
   "execution_count": 19,
   "id": "e799fff2",
   "metadata": {},
   "outputs": [],
   "source": [
    "t_2[1] = 3"
   ]
  },
  {
   "cell_type": "code",
   "execution_count": 20,
   "id": "e7e1de69",
   "metadata": {},
   "outputs": [
    {
     "data": {
      "text/plain": [
       "array([7, 3, 6, 4])"
      ]
     },
     "execution_count": 20,
     "metadata": {},
     "output_type": "execute_result"
    }
   ],
   "source": [
    "gh_2"
   ]
  },
  {
   "cell_type": "code",
   "execution_count": 21,
   "id": "2a009fa8",
   "metadata": {},
   "outputs": [
    {
     "data": {
      "text/plain": [
       "array([7, 3, 6, 4])"
      ]
     },
     "execution_count": 21,
     "metadata": {},
     "output_type": "execute_result"
    }
   ],
   "source": [
    "t_2"
   ]
  },
  {
   "cell_type": "code",
   "execution_count": 22,
   "id": "cc46b5b1",
   "metadata": {},
   "outputs": [
    {
     "name": "stdout",
     "output_type": "stream",
     "text": [
      "[3 5 6 7]\n",
      "(4,)\n"
     ]
    }
   ],
   "source": [
    "vc = np.array([3,5,6,7])\n",
    "print(vc)\n",
    "print(vc.shape)"
   ]
  },
  {
   "cell_type": "code",
   "execution_count": 23,
   "id": "9adbad54",
   "metadata": {},
   "outputs": [
    {
     "name": "stdout",
     "output_type": "stream",
     "text": [
      "[[[[[6 7 2 9]]]]]\n",
      "(1, 1, 1, 1, 4)\n"
     ]
    }
   ],
   "source": [
    "vcx = np.array([6,7,2,9], ndmin = 5)\n",
    "print(vcx)\n",
    "print(vcx.shape)"
   ]
  },
  {
   "cell_type": "code",
   "execution_count": 24,
   "id": "ecd228c4",
   "metadata": {},
   "outputs": [
    {
     "name": "stdout",
     "output_type": "stream",
     "text": [
      "5\n"
     ]
    }
   ],
   "source": [
    "print(vcx.ndim)"
   ]
  },
  {
   "cell_type": "code",
   "execution_count": 25,
   "id": "55c5a1e1",
   "metadata": {},
   "outputs": [
    {
     "name": "stdout",
     "output_type": "stream",
     "text": [
      "1\n"
     ]
    }
   ],
   "source": [
    "print(gh.ndim)"
   ]
  },
  {
   "cell_type": "code",
   "execution_count": 26,
   "id": "6ba956ed",
   "metadata": {},
   "outputs": [
    {
     "name": "stdout",
     "output_type": "stream",
     "text": [
      "2\n"
     ]
    }
   ],
   "source": [
    "print(tyy.ndim)"
   ]
  },
  {
   "cell_type": "code",
   "execution_count": 27,
   "id": "5aa20cc5",
   "metadata": {},
   "outputs": [],
   "source": [
    "jk = np.array([6,1,9,3,7])"
   ]
  },
  {
   "cell_type": "code",
   "execution_count": 29,
   "id": "a43bc46a",
   "metadata": {},
   "outputs": [],
   "source": [
    "jk = np.array([6,1,9,3,7], ndmin = 8)"
   ]
  },
  {
   "cell_type": "code",
   "execution_count": 30,
   "id": "ff7844e5",
   "metadata": {},
   "outputs": [
    {
     "name": "stdout",
     "output_type": "stream",
     "text": [
      "(1, 1, 1, 1, 1, 1, 1, 5)\n"
     ]
    }
   ],
   "source": [
    "print(jk.shape)"
   ]
  },
  {
   "cell_type": "code",
   "execution_count": 31,
   "id": "d1909963",
   "metadata": {},
   "outputs": [],
   "source": [
    "ad = np.array([1,2,3,4,5,6,7,8,9,10,11,12])"
   ]
  },
  {
   "cell_type": "code",
   "execution_count": 38,
   "id": "b82316db",
   "metadata": {},
   "outputs": [
    {
     "name": "stdout",
     "output_type": "stream",
     "text": [
      "[ 1  2  3  4  5  6  7  8  9 10 11 12]\n",
      "\n",
      "[[ 1  2  3]\n",
      " [ 4  5  6]\n",
      " [ 7  8  9]\n",
      " [10 11 12]]\n",
      "\n",
      "[[ 1  2  3  4]\n",
      " [ 5  6  7  8]\n",
      " [ 9 10 11 12]]\n",
      "\n",
      "[[ 1  2]\n",
      " [ 3  4]\n",
      " [ 5  6]\n",
      " [ 7  8]\n",
      " [ 9 10]\n",
      " [11 12]]\n",
      "\n",
      "[[ 1  2  3  4  5  6]\n",
      " [ 7  8  9 10 11 12]]\n",
      "\n",
      "[[ 1]\n",
      " [ 2]\n",
      " [ 3]\n",
      " [ 4]\n",
      " [ 5]\n",
      " [ 6]\n",
      " [ 7]\n",
      " [ 8]\n",
      " [ 9]\n",
      " [10]\n",
      " [11]\n",
      " [12]]\n",
      "\n"
     ]
    }
   ],
   "source": [
    "print(ad)\n",
    "print()\n",
    "print(ad.reshape(4,3))\n",
    "print()\n",
    "print(ad.reshape(3,4))\n",
    "print()\n",
    "print(ad.reshape(6,2))\n",
    "print()\n",
    "print(ad.reshape(2,6))\n",
    "print()\n",
    "print(ad.reshape(12,1))\n",
    "print()\n"
   ]
  },
  {
   "cell_type": "code",
   "execution_count": null,
   "id": "102d74a0",
   "metadata": {},
   "outputs": [],
   "source": [
    "arr = np.array([[3,6,7,1],[5,7,6,1]])\n",
    "\n",
    "print(arr)\n",
    "print()\n",
    "\n",
    "for x in arr:\n",
    "    print(x)\n",
    "    \n",
    "print()\n",
    "\n",
    "for x in arr:\n",
    "    for y in arr:\n",
    "        print(y)"
   ]
  }
 ],
 "metadata": {
  "kernelspec": {
   "display_name": "Python 3 (ipykernel)",
   "language": "python",
   "name": "python3"
  },
  "language_info": {
   "codemirror_mode": {
    "name": "ipython",
    "version": 3
   },
   "file_extension": ".py",
   "mimetype": "text/x-python",
   "name": "python",
   "nbconvert_exporter": "python",
   "pygments_lexer": "ipython3",
   "version": "3.9.13"
  }
 },
 "nbformat": 4,
 "nbformat_minor": 5
}
