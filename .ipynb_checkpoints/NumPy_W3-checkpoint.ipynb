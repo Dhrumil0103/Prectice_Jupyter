{
 "cells": [
  {
   "cell_type": "code",
   "execution_count": 1,
   "id": "6e94944b",
   "metadata": {},
   "outputs": [],
   "source": [
    "import numpy as np"
   ]
  },
  {
   "cell_type": "code",
   "execution_count": 2,
   "id": "e5149077",
   "metadata": {},
   "outputs": [
    {
     "name": "stdout",
     "output_type": "stream",
     "text": [
      "[1 2 3 4 5]\n"
     ]
    }
   ],
   "source": [
    "arr = np.array([1,2,3,4,5])\n",
    "\n",
    "print(arr)"
   ]
  },
  {
   "cell_type": "code",
   "execution_count": 3,
   "id": "712f4c67",
   "metadata": {},
   "outputs": [
    {
     "name": "stdout",
     "output_type": "stream",
     "text": [
      "1.21.5\n"
     ]
    }
   ],
   "source": [
    "print(np.__version__)"
   ]
  },
  {
   "cell_type": "markdown",
   "id": "988255b0",
   "metadata": {},
   "source": [
    "## NumPy Creating Arrays"
   ]
  },
  {
   "cell_type": "code",
   "execution_count": 4,
   "id": "8b6e3bf2",
   "metadata": {},
   "outputs": [
    {
     "name": "stdout",
     "output_type": "stream",
     "text": [
      "[1 2 3 4 5]\n",
      "<class 'numpy.ndarray'>\n"
     ]
    }
   ],
   "source": [
    "arr = np.array([1,2,3,4,5])\n",
    "\n",
    "print(arr)\n",
    "\n",
    "print(type(arr))"
   ]
  },
  {
   "cell_type": "code",
   "execution_count": 5,
   "id": "00f37a0d",
   "metadata": {},
   "outputs": [
    {
     "name": "stdout",
     "output_type": "stream",
     "text": [
      "[1 2 3 4 5]\n"
     ]
    }
   ],
   "source": [
    "arr = np.array((1,2,3,4,5))\n",
    "\n",
    "print(arr)"
   ]
  },
  {
   "cell_type": "markdown",
   "id": "381ad274",
   "metadata": {},
   "source": [
    "## Dimensions In Arrays"
   ]
  },
  {
   "cell_type": "markdown",
   "id": "fcfdb958",
   "metadata": {},
   "source": [
    "### 0 - D Arrays"
   ]
  },
  {
   "cell_type": "code",
   "execution_count": 6,
   "id": "5fb2fc33",
   "metadata": {},
   "outputs": [
    {
     "name": "stdout",
     "output_type": "stream",
     "text": [
      "43\n"
     ]
    }
   ],
   "source": [
    "arr = np.array(43)\n",
    "\n",
    "print(arr)"
   ]
  },
  {
   "cell_type": "markdown",
   "id": "bc56ff66",
   "metadata": {},
   "source": [
    "### 1 - D Arrays"
   ]
  },
  {
   "cell_type": "code",
   "execution_count": 7,
   "id": "6616460b",
   "metadata": {},
   "outputs": [
    {
     "name": "stdout",
     "output_type": "stream",
     "text": [
      "[2 3 6 8]\n"
     ]
    }
   ],
   "source": [
    "arr = np.array([2,3,6,8])\n",
    "\n",
    "print(arr)"
   ]
  },
  {
   "cell_type": "markdown",
   "id": "8fbdc508",
   "metadata": {},
   "source": [
    "### 2 - D Arrays"
   ]
  },
  {
   "cell_type": "code",
   "execution_count": 8,
   "id": "7f8d76fb",
   "metadata": {},
   "outputs": [
    {
     "name": "stdout",
     "output_type": "stream",
     "text": [
      "[[1 2 3]\n",
      " [4 5 6]]\n"
     ]
    }
   ],
   "source": [
    "arr = np.array([[1,2,3],[4,5,6]])\n",
    "\n",
    "print(arr)"
   ]
  },
  {
   "cell_type": "markdown",
   "id": "10728047",
   "metadata": {},
   "source": [
    "### 3 - D Arrays"
   ]
  },
  {
   "cell_type": "code",
   "execution_count": 19,
   "id": "4ea10b1f",
   "metadata": {},
   "outputs": [
    {
     "name": "stdout",
     "output_type": "stream",
     "text": [
      "[[[1 2 3]\n",
      "  [4 5 6]]\n",
      "\n",
      " [[7 8 9]\n",
      "  [0 1 2]]]\n",
      "Number Of Dimensions: 3\n"
     ]
    }
   ],
   "source": [
    "arr = np.array([[[1,2,3],[4,5,6]],[[7,8,9],[0,1,2]]])\n",
    "\n",
    "print(arr)\n",
    "\n",
    "print(\"Number Of Dimensions:\",arr.ndim)"
   ]
  },
  {
   "cell_type": "code",
   "execution_count": 20,
   "id": "4ffdc639",
   "metadata": {},
   "outputs": [
    {
     "name": "stdout",
     "output_type": "stream",
     "text": [
      "[[[9 8 7]\n",
      "  [6 5 4]\n",
      "  [3 2 1]]]\n",
      "Number of Dimensions: 3\n"
     ]
    }
   ],
   "source": [
    "arr = np.array([[[9,8,7],[6,5,4],[3,2,1]]])\n",
    "\n",
    "print(arr)\n",
    "print(\"Number of Dimensions:\",arr.ndim)"
   ]
  },
  {
   "cell_type": "code",
   "execution_count": 23,
   "id": "8fb604a0",
   "metadata": {},
   "outputs": [
    {
     "name": "stdout",
     "output_type": "stream",
     "text": [
      "[[[[[5 2 6]\n",
      "    [1 8 9]\n",
      "    [3 9 7]]]]]\n",
      "Number Of Dimensions: 5\n"
     ]
    }
   ],
   "source": [
    "ass = np.array([[[5,2,6],[1,8,9],[3,9,7]]], ndmin = 5)\n",
    "\n",
    "print(ass)\n",
    "print(\"Number Of Dimensions:\",ass.ndim)"
   ]
  },
  {
   "cell_type": "markdown",
   "id": "f912cd7a",
   "metadata": {},
   "source": [
    "## Check Number Of Dimensions"
   ]
  },
  {
   "cell_type": "code",
   "execution_count": 25,
   "id": "328a8a66",
   "metadata": {},
   "outputs": [
    {
     "name": "stdout",
     "output_type": "stream",
     "text": [
      "0\n",
      "1\n",
      "2\n",
      "3\n",
      "5\n"
     ]
    }
   ],
   "source": [
    "a = np.array(64)\n",
    "b = np.array([2,3,6,7])\n",
    "c = np.array([[3,6,8],[7,4,1]])\n",
    "d = np.array([[[1,2,3],[4,5,6]],[[7,8,9],[3,2,1]]])\n",
    "e = np.array([[3,6,8],[7,4,1]], ndmin = 5)\n",
    "\n",
    "print(a.ndim)\n",
    "print(b.ndim)\n",
    "print(c.ndim)\n",
    "print(d.ndim)\n",
    "print(e.ndim)"
   ]
  },
  {
   "cell_type": "markdown",
   "id": "a87343ba",
   "metadata": {},
   "source": [
    "## Higher Dimensional Arrays"
   ]
  },
  {
   "cell_type": "code",
   "execution_count": 27,
   "id": "16b55145",
   "metadata": {},
   "outputs": [
    {
     "name": "stdout",
     "output_type": "stream",
     "text": [
      "[[[[[1 2 3 4 5]]]]]\n",
      "Number Of Dimensions: 5\n"
     ]
    }
   ],
   "source": [
    "arr = np.array([1,2,3,4,5], ndmin = 5)\n",
    "\n",
    "print(arr)\n",
    "print(\"Number Of Dimensions:\",arr.ndim)"
   ]
  },
  {
   "cell_type": "markdown",
   "id": "4048481a",
   "metadata": {},
   "source": [
    "## NumPy Array Indexing"
   ]
  },
  {
   "cell_type": "code",
   "execution_count": 29,
   "id": "b4f5b01f",
   "metadata": {},
   "outputs": [
    {
     "name": "stdout",
     "output_type": "stream",
     "text": [
      "3\n"
     ]
    }
   ],
   "source": [
    "arr = np.array([1,2,3,4,5])\n",
    "\n",
    "print(arr[2])"
   ]
  },
  {
   "cell_type": "code",
   "execution_count": 30,
   "id": "0a47dbd6",
   "metadata": {},
   "outputs": [
    {
     "name": "stdout",
     "output_type": "stream",
     "text": [
      "6\n"
     ]
    }
   ],
   "source": [
    "arr = np.array([1,2,3,4,5])\n",
    "\n",
    "print(arr[1] + arr[3])"
   ]
  },
  {
   "cell_type": "code",
   "execution_count": 31,
   "id": "84e2b55c",
   "metadata": {},
   "outputs": [
    {
     "name": "stdout",
     "output_type": "stream",
     "text": [
      "8\n"
     ]
    }
   ],
   "source": [
    "arr = np.array([1,2,3,4,5])\n",
    "\n",
    "print(arr[1] * arr[3])"
   ]
  },
  {
   "cell_type": "markdown",
   "id": "42e85c36",
   "metadata": {},
   "source": [
    "### Access 2 - D Arrays"
   ]
  },
  {
   "cell_type": "code",
   "execution_count": 32,
   "id": "8faa9f52",
   "metadata": {},
   "outputs": [
    {
     "name": "stdout",
     "output_type": "stream",
     "text": [
      "3rd Element Of 2nd Row: 7\n"
     ]
    }
   ],
   "source": [
    "arr = np.array([[1,2,3,4],[9,8,7,6]])\n",
    "\n",
    "print('3rd Element Of 2nd Row:', arr[1,2])"
   ]
  },
  {
   "cell_type": "code",
   "execution_count": 34,
   "id": "dbf62cf0",
   "metadata": {},
   "outputs": [
    {
     "name": "stdout",
     "output_type": "stream",
     "text": [
      "5th Element Of 1st Row: 7\n"
     ]
    }
   ],
   "source": [
    "arr = np.array([[1,2,3,4,7],[6,7,8,9,0]])\n",
    "\n",
    "print('5th Element Of 1st Row:', arr[0,4])"
   ]
  },
  {
   "cell_type": "code",
   "execution_count": 36,
   "id": "4d95ce31",
   "metadata": {},
   "outputs": [
    {
     "name": "stdout",
     "output_type": "stream",
     "text": [
      "6\n"
     ]
    }
   ],
   "source": [
    "arr = np.array([[[1,2,3],[4,5,6]],[[7,8,9],[10,11,12]]])\n",
    "\n",
    "print(arr[0,1,2])"
   ]
  },
  {
   "cell_type": "markdown",
   "id": "cf99aa2f",
   "metadata": {},
   "source": [
    "#### Example Explained\n",
    "arr[0, 1, 2] prints the value 6.\n",
    "\n",
    "And this is why:\n",
    "\n",
    "The first number represents the first dimension, which contains two arrays:\n",
    "[[1, 2, 3], [4, 5, 6]]\n",
    "and:\n",
    "[[7, 8, 9], [10, 11, 12]]\n",
    "Since we selected 0, we are left with the first array:\n",
    "[[1, 2, 3], [4, 5, 6]]\n",
    "\n",
    "The second number represents the second dimension, which also contains two arrays:\n",
    "[1, 2, 3]\n",
    "and:\n",
    "[4, 5, 6]\n",
    "Since we selected 1, we are left with the second array:\n",
    "[4, 5, 6]\n",
    "\n",
    "The third number represents the third dimension, which contains three values:\n",
    "4\n",
    "5\n",
    "6\n",
    "Since we selected 2, we end up with the third value:\n",
    "6"
   ]
  },
  {
   "cell_type": "markdown",
   "id": "bb96fa61",
   "metadata": {},
   "source": [
    "### Negative Indexing"
   ]
  },
  {
   "cell_type": "code",
   "execution_count": 38,
   "id": "8a602900",
   "metadata": {},
   "outputs": [
    {
     "name": "stdout",
     "output_type": "stream",
     "text": [
      "Last element of 2nd dim: 9\n"
     ]
    }
   ],
   "source": [
    "arr = np.array([[1,4,5,6,7],[2,6,7,4,9]])\n",
    "\n",
    "print('Last element of 2nd dim:' , arr[1,-1])"
   ]
  },
  {
   "cell_type": "markdown",
   "id": "a5116b60",
   "metadata": {},
   "source": [
    "## NumPy Array Slicing"
   ]
  },
  {
   "cell_type": "code",
   "execution_count": 44,
   "id": "edb1adad",
   "metadata": {},
   "outputs": [
    {
     "name": "stdout",
     "output_type": "stream",
     "text": [
      "[1 4 6]\n"
     ]
    }
   ],
   "source": [
    "arr = np.array([2,4,1,4,6,9])\n",
    "\n",
    "print(arr[2:5])"
   ]
  },
  {
   "cell_type": "code",
   "execution_count": 39,
   "id": "9964d4cd",
   "metadata": {},
   "outputs": [
    {
     "name": "stdout",
     "output_type": "stream",
     "text": [
      "[5 6 7]\n"
     ]
    }
   ],
   "source": [
    "arr = np.array([1,2,3,4,5,6,7])\n",
    "\n",
    "print(arr[4:])"
   ]
  },
  {
   "cell_type": "code",
   "execution_count": 43,
   "id": "4fdb4c06",
   "metadata": {},
   "outputs": [
    {
     "name": "stdout",
     "output_type": "stream",
     "text": [
      "[1 2 3 4 5 8]\n"
     ]
    }
   ],
   "source": [
    "arr = np.array([1,2,3,4,5,8,7])\n",
    "\n",
    "print(arr[:6])"
   ]
  },
  {
   "cell_type": "markdown",
   "id": "a7654008",
   "metadata": {},
   "source": [
    "### Negative Slicing"
   ]
  },
  {
   "cell_type": "code",
   "execution_count": 50,
   "id": "1c35e616",
   "metadata": {},
   "outputs": [
    {
     "name": "stdout",
     "output_type": "stream",
     "text": [
      "[7 6 5]\n"
     ]
    }
   ],
   "source": [
    "arr = np.array([9,8,7,6,5,4,3])\n",
    "\n",
    "print(arr[-5:-2])"
   ]
  },
  {
   "cell_type": "markdown",
   "id": "e5728348",
   "metadata": {},
   "source": [
    "### Step"
   ]
  },
  {
   "cell_type": "code",
   "execution_count": 49,
   "id": "8310c047",
   "metadata": {},
   "outputs": [
    {
     "name": "stdout",
     "output_type": "stream",
     "text": [
      "[2 4 6]\n"
     ]
    }
   ],
   "source": [
    "arr = np.array([1,2,3,4,5,6,7,8,9])\n",
    "\n",
    "print(arr[1:6:2])"
   ]
  },
  {
   "cell_type": "code",
   "execution_count": 54,
   "id": "968335ed",
   "metadata": {},
   "outputs": [
    {
     "name": "stdout",
     "output_type": "stream",
     "text": [
      "[1 3 5 7]\n"
     ]
    }
   ],
   "source": [
    "arr = np.array([1,2,3,4,5,6,7])\n",
    "\n",
    "print(arr[::2])"
   ]
  },
  {
   "cell_type": "code",
   "execution_count": 55,
   "id": "1b142502",
   "metadata": {},
   "outputs": [
    {
     "name": "stdout",
     "output_type": "stream",
     "text": [
      "[1 4 7]\n"
     ]
    }
   ],
   "source": [
    "arr = np.array([1,2,3,4,5,6,7])\n",
    "\n",
    "print(arr[::3])"
   ]
  },
  {
   "cell_type": "markdown",
   "id": "bc33385e",
   "metadata": {},
   "source": [
    "### Slicing 2 - D Arrays"
   ]
  },
  {
   "cell_type": "code",
   "execution_count": 2,
   "id": "1e456efe",
   "metadata": {},
   "outputs": [
    {
     "name": "stdout",
     "output_type": "stream",
     "text": [
      "[7 8 9]\n"
     ]
    }
   ],
   "source": [
    "arr = np.array([[1,2,3,4,5], [6,7,8,9,0]])\n",
    "\n",
    "print(arr[1, 1:4])"
   ]
  },
  {
   "cell_type": "code",
   "execution_count": 3,
   "id": "a4db127a",
   "metadata": {},
   "outputs": [
    {
     "name": "stdout",
     "output_type": "stream",
     "text": [
      "[3 8]\n"
     ]
    }
   ],
   "source": [
    "arr = np.array([[1,2,3,4,5], [6,7,8,9,0]])\n",
    "\n",
    "print(arr[0:2, 2])"
   ]
  },
  {
   "cell_type": "code",
   "execution_count": 4,
   "id": "f07dea44",
   "metadata": {},
   "outputs": [
    {
     "name": "stdout",
     "output_type": "stream",
     "text": [
      "[[2 3 4]\n",
      " [7 8 9]]\n"
     ]
    }
   ],
   "source": [
    "arr = np.array([[1,2,3,4,5], [6,7,8,9,10]])\n",
    "\n",
    "print(arr[0:2, 1:4])"
   ]
  },
  {
   "cell_type": "markdown",
   "id": "37fdb572",
   "metadata": {},
   "source": [
    "## NumPy Data Types"
   ]
  },
  {
   "cell_type": "markdown",
   "id": "f4b6f657",
   "metadata": {},
   "source": [
    "### Checking the Data Type of an Array"
   ]
  },
  {
   "cell_type": "code",
   "execution_count": 7,
   "id": "e34009ac",
   "metadata": {},
   "outputs": [
    {
     "name": "stdout",
     "output_type": "stream",
     "text": [
      "int32\n"
     ]
    }
   ],
   "source": [
    "arr = np.array([1,2,3,4,5,6])\n",
    "\n",
    "print(arr.dtype)"
   ]
  },
  {
   "cell_type": "code",
   "execution_count": 8,
   "id": "b2271fa7",
   "metadata": {},
   "outputs": [
    {
     "name": "stdout",
     "output_type": "stream",
     "text": [
      "<U6\n"
     ]
    }
   ],
   "source": [
    "arr = np.array(['Apple', 'Banana', 'Cherry'])\n",
    "\n",
    "print(arr.dtype)"
   ]
  },
  {
   "cell_type": "code",
   "execution_count": 11,
   "id": "64200847",
   "metadata": {},
   "outputs": [
    {
     "name": "stdout",
     "output_type": "stream",
     "text": [
      "[b'1' b'2' b'3' b'4' b'5']\n",
      "|S1\n"
     ]
    }
   ],
   "source": [
    "arr = np.array([1,2,3,4,5], dtype = 'S')\n",
    "\n",
    "print(arr)\n",
    "print(arr.dtype)"
   ]
  },
  {
   "cell_type": "code",
   "execution_count": 2,
   "id": "1b343339",
   "metadata": {},
   "outputs": [
    {
     "name": "stdout",
     "output_type": "stream",
     "text": [
      "[1 2 3 4]\n",
      "int32\n"
     ]
    }
   ],
   "source": [
    "arr = np.array([1,2,3,4], dtype = 'i4')\n",
    "\n",
    "print(arr)\n",
    "print(arr.dtype)"
   ]
  },
  {
   "cell_type": "markdown",
   "id": "682ad0bb",
   "metadata": {},
   "source": [
    "### Converting Data Type on Existing Arrays"
   ]
  },
  {
   "cell_type": "code",
   "execution_count": 5,
   "id": "df8b6fb1",
   "metadata": {},
   "outputs": [
    {
     "name": "stdout",
     "output_type": "stream",
     "text": [
      "[2.1 3.4 7.6]\n",
      "Original Data Type: float64\n",
      "[2 3 7]\n",
      "Change Data type: int32\n"
     ]
    }
   ],
   "source": [
    "arr = np.array([2.1,3.4,7.6])\n",
    "\n",
    "narr = arr.astype('i')\n",
    "\n",
    "print(arr)\n",
    "print('Original Data Type:',arr.dtype)\n",
    "print(narr)\n",
    "print(\"Change Data type:\",narr.dtype)"
   ]
  },
  {
   "cell_type": "code",
   "execution_count": 8,
   "id": "a8658f9a",
   "metadata": {},
   "outputs": [
    {
     "name": "stdout",
     "output_type": "stream",
     "text": [
      "[1.4 2.7 3.8 6.1 5.9]\n",
      "float64\n",
      "[1 2 3 6 5]\n",
      "int32\n"
     ]
    }
   ],
   "source": [
    "arr = np.array([1.4,2.7,3.8,6.1,5.9])\n",
    "\n",
    "narr = arr.astype(int)\n",
    "\n",
    "print(arr)\n",
    "print(arr.dtype)\n",
    "print(narr)\n",
    "print(narr.dtype)"
   ]
  },
  {
   "cell_type": "code",
   "execution_count": 11,
   "id": "ff271e7d",
   "metadata": {},
   "outputs": [
    {
     "name": "stdout",
     "output_type": "stream",
     "text": [
      "[ True False  True]\n",
      "bool\n"
     ]
    }
   ],
   "source": [
    "arr = np.array([1,0,7])\n",
    "\n",
    "narr = arr.astype(bool)\n",
    "\n",
    "print(narr)\n",
    "print(narr.dtype)"
   ]
  },
  {
   "cell_type": "markdown",
   "id": "42984890",
   "metadata": {},
   "source": [
    "## NumPy Array Copy vs View"
   ]
  },
  {
   "cell_type": "markdown",
   "id": "e869d156",
   "metadata": {},
   "source": [
    "### Copy"
   ]
  },
  {
   "cell_type": "code",
   "execution_count": 3,
   "id": "6b733fa1",
   "metadata": {},
   "outputs": [
    {
     "name": "stdout",
     "output_type": "stream",
     "text": [
      "[43  2  3  4]\n",
      "[1 2 3 4]\n"
     ]
    }
   ],
   "source": [
    "arr = np.array([1,2,3,4])\n",
    "x = arr.copy()\n",
    "arr[0] = 43\n",
    "\n",
    "print(arr)\n",
    "print(x)"
   ]
  },
  {
   "cell_type": "markdown",
   "id": "663555b2",
   "metadata": {},
   "source": [
    "### View"
   ]
  },
  {
   "cell_type": "code",
   "execution_count": 4,
   "id": "adc5bdb4",
   "metadata": {},
   "outputs": [
    {
     "name": "stdout",
     "output_type": "stream",
     "text": [
      "[44  2  3  4  5]\n",
      "[44  2  3  4  5]\n"
     ]
    }
   ],
   "source": [
    "arr = np.array([1,2,3,4,5])\n",
    "x = arr.view()\n",
    "arr[0] = 44\n",
    "\n",
    "print(arr)\n",
    "print(x)"
   ]
  },
  {
   "cell_type": "code",
   "execution_count": 5,
   "id": "3faddf11",
   "metadata": {},
   "outputs": [
    {
     "name": "stdout",
     "output_type": "stream",
     "text": [
      "[67  2  3  4  5]\n",
      "[67  2  3  4  5]\n"
     ]
    }
   ],
   "source": [
    "arr = np.array([1,2,3,4,5])\n",
    "x = arr.view()\n",
    "x[0] = 67\n",
    "\n",
    "print(arr)\n",
    "print(x)"
   ]
  },
  {
   "cell_type": "markdown",
   "id": "e0def81a",
   "metadata": {},
   "source": [
    "### Check if Array Owns its Data"
   ]
  },
  {
   "cell_type": "code",
   "execution_count": 6,
   "id": "c8cefb37",
   "metadata": {},
   "outputs": [
    {
     "name": "stdout",
     "output_type": "stream",
     "text": [
      "None\n",
      "[1 2 3 4 5 6]\n"
     ]
    }
   ],
   "source": [
    "arr = np.array([1,2,3,4,5,6])\n",
    "\n",
    "x = arr.copy()\n",
    "y = arr.view()\n",
    "\n",
    "print(x.base)\n",
    "print(y.base)"
   ]
  },
  {
   "cell_type": "markdown",
   "id": "56b4e4f9",
   "metadata": {},
   "source": [
    "## NumPy Array Shape"
   ]
  },
  {
   "cell_type": "markdown",
   "id": "e74f2886",
   "metadata": {},
   "source": [
    "### Get The Shape Of an array"
   ]
  },
  {
   "cell_type": "code",
   "execution_count": 7,
   "id": "f272bf8c",
   "metadata": {},
   "outputs": [
    {
     "name": "stdout",
     "output_type": "stream",
     "text": [
      "(2, 5)\n"
     ]
    }
   ],
   "source": [
    "arr = np.array([[1,2,3,4,5],[6,8,7,9,10]])\n",
    "\n",
    "print(arr.shape)"
   ]
  },
  {
   "cell_type": "code",
   "execution_count": 8,
   "id": "bc5df785",
   "metadata": {},
   "outputs": [
    {
     "name": "stdout",
     "output_type": "stream",
     "text": [
      "[[[[[1 2 3 4 5]]]]]\n",
      "Shape Of array: (1, 1, 1, 1, 5)\n"
     ]
    }
   ],
   "source": [
    "arr = np.array([1,2,3,4,5], ndmin = 5)\n",
    "\n",
    "print(arr)\n",
    "print('Shape Of array:', arr.shape)"
   ]
  },
  {
   "cell_type": "markdown",
   "id": "ef78934a",
   "metadata": {},
   "source": [
    "## NumPy Array Reshaping"
   ]
  },
  {
   "cell_type": "markdown",
   "id": "26398934",
   "metadata": {},
   "source": [
    "### Reshape From 1-D to 2-D"
   ]
  },
  {
   "cell_type": "code",
   "execution_count": 9,
   "id": "66b2f3f1",
   "metadata": {},
   "outputs": [
    {
     "name": "stdout",
     "output_type": "stream",
     "text": [
      "[[ 1  2  3]\n",
      " [ 4  5  6]\n",
      " [ 7  8  9]\n",
      " [10 11 12]]\n"
     ]
    }
   ],
   "source": [
    "arr = np.array([1,2,3,4,5,6,7,8,9,10,11,12])\n",
    "\n",
    "narr = arr.reshape(4,3) #The outermost dimension will have 4 arrays, each with 3 elements\n",
    "\n",
    "print(narr)"
   ]
  },
  {
   "cell_type": "markdown",
   "id": "51f6f7a9",
   "metadata": {},
   "source": [
    "### Reshape 1-D to 3-D"
   ]
  },
  {
   "cell_type": "code",
   "execution_count": 10,
   "id": "33f0de0a",
   "metadata": {},
   "outputs": [
    {
     "name": "stdout",
     "output_type": "stream",
     "text": [
      "[[[ 1  2]\n",
      "  [ 3  4]\n",
      "  [ 5  6]]\n",
      "\n",
      " [[ 7  8]\n",
      "  [ 9 10]\n",
      "  [11 12]]]\n"
     ]
    }
   ],
   "source": [
    "arr = np.array([1,2,3,4,5,6,7,8,9,10,11,12])\n",
    "\n",
    "narr = arr.reshape(2,3,2) #The outermost dimension will have 2 arrays that contains 3 arrays, each with 2 elements\n",
    "\n",
    "print(narr)"
   ]
  },
  {
   "cell_type": "markdown",
   "id": "4f58d090",
   "metadata": {},
   "source": [
    "### Returns Copy or View?"
   ]
  },
  {
   "cell_type": "code",
   "execution_count": 12,
   "id": "9aaa13e5",
   "metadata": {},
   "outputs": [
    {
     "name": "stdout",
     "output_type": "stream",
     "text": [
      "[1 2 3 4 5 6 7 8]\n"
     ]
    }
   ],
   "source": [
    "arr = np.array([1,2,3,4,5,6,7,8])\n",
    "\n",
    "print(arr.reshape(2,4).base) #The example above returns the original array, so it is a view."
   ]
  },
  {
   "cell_type": "markdown",
   "id": "ac1409c5",
   "metadata": {},
   "source": [
    "### Unknown Dimension"
   ]
  },
  {
   "cell_type": "code",
   "execution_count": 15,
   "id": "c53c896f",
   "metadata": {},
   "outputs": [
    {
     "name": "stdout",
     "output_type": "stream",
     "text": [
      "[[[1 2]\n",
      "  [3 4]]\n",
      "\n",
      " [[5 6]\n",
      "  [7 8]]]\n"
     ]
    }
   ],
   "source": [
    "arr = np.array([1,2,3,4,5,6,7,8])\n",
    "\n",
    "narr = arr.reshape(2,2,-1)\n",
    "\n",
    "print(narr)"
   ]
  },
  {
   "cell_type": "code",
   "execution_count": 25,
   "id": "d8cdb340",
   "metadata": {},
   "outputs": [
    {
     "name": "stdout",
     "output_type": "stream",
     "text": [
      "[[[ 1]\n",
      "  [ 2]\n",
      "  [ 3]\n",
      "  [ 4]\n",
      "  [ 5]]\n",
      "\n",
      " [[ 6]\n",
      "  [ 7]\n",
      "  [ 8]\n",
      "  [ 9]\n",
      "  [10]]]\n"
     ]
    }
   ],
   "source": [
    "arr = np.array([1,2,3,4,5,6,7,8,9,10])\n",
    "\n",
    "narr = arr.reshape(2,5,-1)\n",
    "print(narr)"
   ]
  },
  {
   "cell_type": "markdown",
   "id": "56a87da8",
   "metadata": {},
   "source": [
    "### Flattening the Arrays"
   ]
  },
  {
   "cell_type": "code",
   "execution_count": 28,
   "id": "e133d94c",
   "metadata": {},
   "outputs": [
    {
     "name": "stdout",
     "output_type": "stream",
     "text": [
      "[1 2 3 4 5 6 7 8 9]\n"
     ]
    }
   ],
   "source": [
    "#Flattening array means converting a multidimensional array into a 1D array.\n",
    "#We can use reshape(-1) to do this.\n",
    "\n",
    "arr = np.array([[1,2,3], [4,5,6], [7,8,9]])\n",
    "\n",
    "narr = arr.reshape(-1)\n",
    "\n",
    "print(narr)"
   ]
  },
  {
   "cell_type": "code",
   "execution_count": 31,
   "id": "b47001ec",
   "metadata": {},
   "outputs": [
    {
     "name": "stdout",
     "output_type": "stream",
     "text": [
      "[ 1  2  3  4  5  6  7  8  9 10 11 12]\n"
     ]
    }
   ],
   "source": [
    "arr = np.array([[[1,2,3],[4,5,6]],[[7,8,9],[10,11,12]]])\n",
    "\n",
    "print(arr.reshape(-1))"
   ]
  },
  {
   "cell_type": "code",
   "execution_count": 33,
   "id": "659e5bd9",
   "metadata": {},
   "outputs": [
    {
     "name": "stdout",
     "output_type": "stream",
     "text": [
      "[1 2 3 4 5 6]\n"
     ]
    }
   ],
   "source": [
    "arr = np.array([[1, 2, 3], [4, 5, 6]])\n",
    "\n",
    "newarr = arr.flatten()\n",
    "\n",
    "print(newarr)"
   ]
  },
  {
   "cell_type": "code",
   "execution_count": 34,
   "id": "b89ee47f",
   "metadata": {},
   "outputs": [
    {
     "name": "stdout",
     "output_type": "stream",
     "text": [
      "[1 2 3 4 5 6]\n"
     ]
    }
   ],
   "source": [
    "arr = np.array([[1, 2, 3], [4, 5, 6]])\n",
    "\n",
    "newarr = arr.ravel()\n",
    "\n",
    "print(newarr)"
   ]
  },
  {
   "cell_type": "markdown",
   "id": "100c660e",
   "metadata": {},
   "source": [
    "## NumPy Array Iterating"
   ]
  },
  {
   "cell_type": "code",
   "execution_count": 41,
   "id": "372236a2",
   "metadata": {},
   "outputs": [
    {
     "name": "stdout",
     "output_type": "stream",
     "text": [
      "1\n",
      "2\n",
      "3\n"
     ]
    }
   ],
   "source": [
    "arr = np.array([1,2,3])\n",
    "\n",
    "for x in arr:\n",
    "    print(x)"
   ]
  },
  {
   "cell_type": "markdown",
   "id": "00bd09f8",
   "metadata": {},
   "source": [
    "### Iterating 2-D Arrays"
   ]
  },
  {
   "cell_type": "code",
   "execution_count": 42,
   "id": "767de546",
   "metadata": {},
   "outputs": [
    {
     "name": "stdout",
     "output_type": "stream",
     "text": [
      "[1 2 3]\n",
      "[4 5 6]\n"
     ]
    }
   ],
   "source": [
    "arr = np.array([[1,2,3],[4,5,6]])\n",
    "\n",
    "for x in arr:\n",
    "    print(x)"
   ]
  },
  {
   "cell_type": "code",
   "execution_count": 43,
   "id": "b48157a1",
   "metadata": {},
   "outputs": [
    {
     "name": "stdout",
     "output_type": "stream",
     "text": [
      "5\n",
      "6\n",
      "7\n",
      "2\n",
      "3\n",
      "4\n"
     ]
    }
   ],
   "source": [
    "arr = np.array([[5,6,7],[2,3,4]])\n",
    "\n",
    "for x in arr:\n",
    "    for y in x:\n",
    "        print(y)"
   ]
  },
  {
   "cell_type": "markdown",
   "id": "aa81e6c9",
   "metadata": {},
   "source": [
    "### Iterating 3-D Arrays"
   ]
  },
  {
   "cell_type": "code",
   "execution_count": 45,
   "id": "4255b3cb",
   "metadata": {},
   "outputs": [
    {
     "name": "stdout",
     "output_type": "stream",
     "text": [
      "x represents the 2-D array:\n",
      "[[1 2 3]\n",
      " [4 5 6]]\n",
      "x represents the 2-D array:\n",
      "[[ 7  8  9]\n",
      " [10 11 12]]\n"
     ]
    }
   ],
   "source": [
    "arr = np.array([[[1,2,3],[4,5,6]],[[7,8,9],[10,11,12]]])\n",
    "\n",
    "for x in arr:\n",
    "    print('x represents the 2-D array:')\n",
    "    print(x)"
   ]
  },
  {
   "cell_type": "code",
   "execution_count": 46,
   "id": "9654c992",
   "metadata": {},
   "outputs": [
    {
     "name": "stdout",
     "output_type": "stream",
     "text": [
      "1\n",
      "2\n",
      "3\n",
      "4\n",
      "5\n",
      "6\n",
      "7\n",
      "8\n",
      "9\n",
      "10\n",
      "11\n",
      "12\n"
     ]
    }
   ],
   "source": [
    "arr = np.array([[[1,2,3],[4,5,6]],[[7,8,9],[10,11,12]]])\n",
    "\n",
    "for x in arr:\n",
    "    for y in x:\n",
    "        for z in y:\n",
    "            print(z)"
   ]
  },
  {
   "cell_type": "markdown",
   "id": "21d1bde3",
   "metadata": {},
   "source": [
    "### Iterating Arrays Using nditer()"
   ]
  },
  {
   "cell_type": "code",
   "execution_count": 47,
   "id": "70998c28",
   "metadata": {},
   "outputs": [
    {
     "name": "stdout",
     "output_type": "stream",
     "text": [
      "1\n",
      "2\n",
      "3\n",
      "4\n",
      "5\n",
      "6\n",
      "7\n",
      "8\n"
     ]
    }
   ],
   "source": [
    "arr = np.array([[[1,2],[3,4]],[[5,6],[7,8]]])\n",
    "\n",
    "for x in np.nditer(arr):\n",
    "    print(x)"
   ]
  },
  {
   "cell_type": "markdown",
   "id": "09983705",
   "metadata": {},
   "source": [
    "### Iterating Array With Different Data Types"
   ]
  },
  {
   "cell_type": "code",
   "execution_count": 48,
   "id": "89ddeff8",
   "metadata": {},
   "outputs": [
    {
     "name": "stdout",
     "output_type": "stream",
     "text": [
      "b'1'\n",
      "b'2'\n",
      "b'3'\n"
     ]
    }
   ],
   "source": [
    "arr = np.array([1,2,3])\n",
    "\n",
    "for x in np.nditer(arr, flags=['buffered'], op_dtypes=['S']):\n",
    "    print(x)"
   ]
  },
  {
   "cell_type": "markdown",
   "id": "b81c52c0",
   "metadata": {},
   "source": [
    "### Iterating With Different Step Size"
   ]
  },
  {
   "cell_type": "code",
   "execution_count": 60,
   "id": "48bada60",
   "metadata": {},
   "outputs": [
    {
     "name": "stdout",
     "output_type": "stream",
     "text": [
      "1\n",
      "3\n",
      "5\n",
      "7\n"
     ]
    }
   ],
   "source": [
    "arr = np.array([[1,2,3,4],[5,6,7,8]])\n",
    "\n",
    "for x in np.nditer(arr[:, ::2]):\n",
    "    print(x)"
   ]
  },
  {
   "cell_type": "markdown",
   "id": "4366e375",
   "metadata": {},
   "source": [
    "### Enumerated Iteration Using ndenumerate()"
   ]
  },
  {
   "cell_type": "code",
   "execution_count": 61,
   "id": "fad75b34",
   "metadata": {},
   "outputs": [
    {
     "name": "stdout",
     "output_type": "stream",
     "text": [
      "(0,) 1\n",
      "(1,) 2\n",
      "(2,) 3\n"
     ]
    }
   ],
   "source": [
    "arr = np.array([1,2,3])\n",
    "\n",
    "for idx, x in np.ndenumerate(arr):\n",
    "    print(idx, x)"
   ]
  },
  {
   "cell_type": "code",
   "execution_count": 63,
   "id": "efc785f4",
   "metadata": {},
   "outputs": [
    {
     "name": "stdout",
     "output_type": "stream",
     "text": [
      "(0, 0) 1\n",
      "(0, 1) 2\n",
      "(0, 2) 3\n",
      "(0, 3) 4\n",
      "(1, 0) 6\n",
      "(1, 1) 5\n",
      "(1, 2) 4\n",
      "(1, 3) 3\n"
     ]
    }
   ],
   "source": [
    "arr = np.array([[1,2,3,4],[6,5,4,3]])\n",
    "\n",
    "for idx, x in np.ndenumerate(arr):\n",
    "    print(idx, x)"
   ]
  },
  {
   "cell_type": "markdown",
   "id": "6b2d144d",
   "metadata": {},
   "source": [
    "## NumPy Joining Arrays"
   ]
  },
  {
   "cell_type": "code",
   "execution_count": null,
   "id": "f937a0fb",
   "metadata": {},
   "outputs": [],
   "source": []
  }
 ],
 "metadata": {
  "kernelspec": {
   "display_name": "Python 3 (ipykernel)",
   "language": "python",
   "name": "python3"
  },
  "language_info": {
   "codemirror_mode": {
    "name": "ipython",
    "version": 3
   },
   "file_extension": ".py",
   "mimetype": "text/x-python",
   "name": "python",
   "nbconvert_exporter": "python",
   "pygments_lexer": "ipython3",
   "version": "3.9.13"
  }
 },
 "nbformat": 4,
 "nbformat_minor": 5
}
