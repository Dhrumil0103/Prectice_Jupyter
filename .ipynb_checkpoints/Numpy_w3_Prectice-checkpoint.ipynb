{
 "cells": [
  {
   "cell_type": "markdown",
   "id": "a100fddd",
   "metadata": {},
   "source": [
    "# NumPy"
   ]
  },
  {
   "cell_type": "code",
   "execution_count": 12,
   "id": "3632bda3",
   "metadata": {},
   "outputs": [],
   "source": [
    "import numpy as np"
   ]
  },
  {
   "cell_type": "code",
   "execution_count": 3,
   "id": "173d1042",
   "metadata": {},
   "outputs": [
    {
     "name": "stdout",
     "output_type": "stream",
     "text": [
      "[5 3 7 9 1]\n",
      "<class 'numpy.ndarray'>\n"
     ]
    }
   ],
   "source": [
    "arr = np.array([5,3,7,9,1])\n",
    "print(arr)\n",
    "print(type(arr))"
   ]
  },
  {
   "cell_type": "code",
   "execution_count": 4,
   "id": "a6c225f8",
   "metadata": {},
   "outputs": [
    {
     "name": "stdout",
     "output_type": "stream",
     "text": [
      "[2 3 8 7 6]\n"
     ]
    }
   ],
   "source": [
    "arr = np.array((2,3,8,7,6))\n",
    "print(arr)"
   ]
  },
  {
   "cell_type": "markdown",
   "id": "e4351d40",
   "metadata": {},
   "source": [
    "### 0 D Array"
   ]
  },
  {
   "cell_type": "code",
   "execution_count": 5,
   "id": "8350a1fe",
   "metadata": {},
   "outputs": [
    {
     "name": "stdout",
     "output_type": "stream",
     "text": [
      "46\n"
     ]
    }
   ],
   "source": [
    "arr = np.array(46)\n",
    "print(arr)"
   ]
  },
  {
   "cell_type": "markdown",
   "id": "0bc17363",
   "metadata": {},
   "source": [
    "### 1 D Array"
   ]
  },
  {
   "cell_type": "code",
   "execution_count": 6,
   "id": "be378c0a",
   "metadata": {},
   "outputs": [
    {
     "name": "stdout",
     "output_type": "stream",
     "text": [
      "[5 6 7 2]\n"
     ]
    }
   ],
   "source": [
    "arr = np.array([5,6,7,2])\n",
    "print(arr)"
   ]
  },
  {
   "cell_type": "markdown",
   "id": "02acddf6",
   "metadata": {},
   "source": [
    "### 2 D Array"
   ]
  },
  {
   "cell_type": "code",
   "execution_count": 7,
   "id": "d1c82c50",
   "metadata": {},
   "outputs": [
    {
     "name": "stdout",
     "output_type": "stream",
     "text": [
      "[[1 2 3]\n",
      " [4 5 6]]\n"
     ]
    }
   ],
   "source": [
    "arr = np.array([[1,2,3],[4,5,6]])\n",
    "print(arr)"
   ]
  },
  {
   "cell_type": "markdown",
   "id": "52568cb5",
   "metadata": {},
   "source": [
    "### 3 D Array"
   ]
  },
  {
   "cell_type": "code",
   "execution_count": 10,
   "id": "5b6e39d5",
   "metadata": {},
   "outputs": [
    {
     "name": "stdout",
     "output_type": "stream",
     "text": [
      "[[[1 2 3]\n",
      "  [4 5 6]]\n",
      "\n",
      " [[1 2 3]\n",
      "  [4 5 6]]]\n"
     ]
    }
   ],
   "source": [
    "arr = np.array([[[1,2,3],[4,5,6]],[[1,2,3],[4,5,6]]])\n",
    "print(arr)"
   ]
  },
  {
   "cell_type": "markdown",
   "id": "3f85ed9e",
   "metadata": {},
   "source": [
    "### Dimensions Check"
   ]
  },
  {
   "cell_type": "code",
   "execution_count": 11,
   "id": "d5a06d0d",
   "metadata": {},
   "outputs": [
    {
     "name": "stdout",
     "output_type": "stream",
     "text": [
      "0\n",
      "1\n",
      "2\n",
      "3\n"
     ]
    }
   ],
   "source": [
    "a = np.array(75)\n",
    "b = np.array([1,2,3,4,5])\n",
    "c = np.array([[1,2,3],[4,5,6]])\n",
    "d = np.array([[[1,2,3],[4,5,6]],[[1,2,3],[4,5,6]]])\n",
    "\n",
    "print(a.ndim)\n",
    "print(b.ndim)\n",
    "print(c.ndim)\n",
    "print(d.ndim)"
   ]
  },
  {
   "cell_type": "markdown",
   "id": "a152ed20",
   "metadata": {},
   "source": [
    "### Higher Dimensional Arrays"
   ]
  },
  {
   "cell_type": "code",
   "execution_count": 13,
   "id": "ff2596c9",
   "metadata": {},
   "outputs": [
    {
     "name": "stdout",
     "output_type": "stream",
     "text": [
      "[[[[[1 2 5 9 8]]]]]\n",
      "Number of Dimensions:  5\n"
     ]
    }
   ],
   "source": [
    "arr = np.array([1,2,5,9,8], ndmin = 5)\n",
    "\n",
    "print(arr)\n",
    "print(\"Number of Dimensions: \", arr.ndim)"
   ]
  },
  {
   "cell_type": "markdown",
   "id": "cfa0d81e",
   "metadata": {},
   "source": [
    "### Check NumPy Version"
   ]
  },
  {
   "cell_type": "code",
   "execution_count": 14,
   "id": "40782ec4",
   "metadata": {},
   "outputs": [
    {
     "name": "stdout",
     "output_type": "stream",
     "text": [
      "1.21.5\n"
     ]
    }
   ],
   "source": [
    "print(np.__version__)"
   ]
  },
  {
   "cell_type": "markdown",
   "id": "30fedb22",
   "metadata": {},
   "source": [
    "### Numpy Array Indexing"
   ]
  },
  {
   "cell_type": "code",
   "execution_count": 15,
   "id": "aa685adf",
   "metadata": {},
   "outputs": [
    {
     "name": "stdout",
     "output_type": "stream",
     "text": [
      "2\n"
     ]
    }
   ],
   "source": [
    "acc = np.array([2,8,6,7,3])\n",
    "\n",
    "print(acc[0])"
   ]
  },
  {
   "cell_type": "code",
   "execution_count": 16,
   "id": "2ef37951",
   "metadata": {},
   "outputs": [
    {
     "name": "stdout",
     "output_type": "stream",
     "text": [
      "7\n"
     ]
    }
   ],
   "source": [
    "print(acc[3])"
   ]
  },
  {
   "cell_type": "code",
   "execution_count": 18,
   "id": "e1b641aa",
   "metadata": {},
   "outputs": [
    {
     "name": "stdout",
     "output_type": "stream",
     "text": [
      "[2 8 6 7 3]\n"
     ]
    }
   ],
   "source": [
    "print(acc)"
   ]
  },
  {
   "cell_type": "code",
   "execution_count": 20,
   "id": "b83336b1",
   "metadata": {},
   "outputs": [
    {
     "name": "stdout",
     "output_type": "stream",
     "text": [
      "15\n"
     ]
    }
   ],
   "source": [
    "print(acc[1] + acc[3])"
   ]
  },
  {
   "cell_type": "markdown",
   "id": "07ca8e3e",
   "metadata": {},
   "source": [
    "### Access 2-D Arrays"
   ]
  },
  {
   "cell_type": "code",
   "execution_count": 22,
   "id": "fa4b8a22",
   "metadata": {},
   "outputs": [
    {
     "name": "stdout",
     "output_type": "stream",
     "text": [
      "3rd element on 1st row:  7\n"
     ]
    }
   ],
   "source": [
    "arr = np.array([[5,9,7,3,4],[4,9,7,6,1]])\n",
    "\n",
    "print(\"3rd element on 1st row: \", arr[0,2])"
   ]
  },
  {
   "cell_type": "code",
   "execution_count": 24,
   "id": "461c82f1",
   "metadata": {},
   "outputs": [
    {
     "name": "stdout",
     "output_type": "stream",
     "text": [
      "5th element on 2nd row:  4\n"
     ]
    }
   ],
   "source": [
    "arr = np.array([[8,1,3,7,6],[8,1,9,6,4]])\n",
    "print(\"5th element on 2nd row: \", arr[1,4])"
   ]
  },
  {
   "cell_type": "markdown",
   "id": "9b61eff4",
   "metadata": {},
   "source": [
    "### Access 3-D arrays"
   ]
  },
  {
   "cell_type": "code",
   "execution_count": 7,
   "id": "175c59fb",
   "metadata": {},
   "outputs": [
    {
     "name": "stdout",
     "output_type": "stream",
     "text": [
      "7\n"
     ]
    }
   ],
   "source": [
    "arr = np.array([[[1,5,7,6,7],[5,7,6,1,5]],[[5,7,9,4,8],[4,2,3,7,5]]])\n",
    "\n",
    "print(arr[1,1,3])"
   ]
  },
  {
   "cell_type": "markdown",
   "id": "0caa0501",
   "metadata": {},
   "source": [
    "### Negative Indexing"
   ]
  },
  {
   "cell_type": "code",
   "execution_count": 10,
   "id": "30fe515a",
   "metadata": {},
   "outputs": [
    {
     "name": "stdout",
     "output_type": "stream",
     "text": [
      "9\n"
     ]
    }
   ],
   "source": [
    "arr = np.array([[7,5,4,3],[1,6,9,2]])\n",
    "print(arr[1,-2])"
   ]
  },
  {
   "cell_type": "markdown",
   "id": "66f674b9",
   "metadata": {},
   "source": [
    "### NumPy array Slicing"
   ]
  },
  {
   "cell_type": "code",
   "execution_count": 12,
   "id": "f9054ae1",
   "metadata": {},
   "outputs": [
    {
     "name": "stdout",
     "output_type": "stream",
     "text": [
      "[3 4 5]\n"
     ]
    }
   ],
   "source": [
    "arr = np.array([1,2,3,4,5,6,7])\n",
    "\n",
    "print(arr[2:5]) #Index Numbers"
   ]
  },
  {
   "cell_type": "code",
   "execution_count": 13,
   "id": "7db643ea",
   "metadata": {},
   "outputs": [
    {
     "name": "stdout",
     "output_type": "stream",
     "text": [
      "[5 6 7]\n"
     ]
    }
   ],
   "source": [
    "arr = np.array([1,2,3,4,5,6,7])\n",
    "\n",
    "print(arr[4:])"
   ]
  },
  {
   "cell_type": "code",
   "execution_count": 14,
   "id": "2c596266",
   "metadata": {},
   "outputs": [
    {
     "name": "stdout",
     "output_type": "stream",
     "text": [
      "[1 2 3 4]\n"
     ]
    }
   ],
   "source": [
    "arr = np.array([1,2,3,4,5,6,7])\n",
    "\n",
    "print(arr[:4])"
   ]
  },
  {
   "cell_type": "markdown",
   "id": "71b157c6",
   "metadata": {},
   "source": [
    "### Negative Slicing"
   ]
  },
  {
   "cell_type": "code",
   "execution_count": 18,
   "id": "bd948bf7",
   "metadata": {},
   "outputs": [
    {
     "name": "stdout",
     "output_type": "stream",
     "text": [
      "[4 5 6]\n"
     ]
    }
   ],
   "source": [
    "arr = np.array([1,2,3,4,5,6,7])\n",
    "\n",
    "print(arr[-4:-1])"
   ]
  },
  {
   "cell_type": "markdown",
   "id": "456c4187",
   "metadata": {},
   "source": [
    "### With Steps"
   ]
  },
  {
   "cell_type": "code",
   "execution_count": 23,
   "id": "15441be7",
   "metadata": {},
   "outputs": [
    {
     "name": "stdout",
     "output_type": "stream",
     "text": [
      "[2 4 6]\n"
     ]
    }
   ],
   "source": [
    "arr = np.array([1,2,3,4,5,6,7])\n",
    "\n",
    "print(arr[1:6:2])"
   ]
  },
  {
   "cell_type": "markdown",
   "id": "54137f09",
   "metadata": {},
   "source": [
    "### Return Every Other Element from the entite array"
   ]
  },
  {
   "cell_type": "code",
   "execution_count": 26,
   "id": "f1e57b97",
   "metadata": {},
   "outputs": [
    {
     "name": "stdout",
     "output_type": "stream",
     "text": [
      "[1 3 5 7]\n"
     ]
    }
   ],
   "source": [
    "arr = np.array([1,2,3,4,5,6,7])\n",
    "\n",
    "print(arr[::2])"
   ]
  },
  {
   "cell_type": "markdown",
   "id": "c63303b6",
   "metadata": {},
   "source": [
    "### Slicing 2-D Arrays"
   ]
  },
  {
   "cell_type": "code",
   "execution_count": 29,
   "id": "bc85b9a2",
   "metadata": {},
   "outputs": [
    {
     "name": "stdout",
     "output_type": "stream",
     "text": [
      "[7 8 9]\n"
     ]
    }
   ],
   "source": [
    "arr = np.array([[1,2,3,4,5],[6,7,8,9,10]])\n",
    "\n",
    "print(arr[1,1:4])"
   ]
  },
  {
   "cell_type": "code",
   "execution_count": 36,
   "id": "6c87305c",
   "metadata": {},
   "outputs": [
    {
     "name": "stdout",
     "output_type": "stream",
     "text": [
      "[3 8]\n"
     ]
    }
   ],
   "source": [
    "arr = np.array([[1,2,3,4,5],[6,7,8,9,10]])\n",
    "\n",
    "print(arr[0:2,2])"
   ]
  },
  {
   "cell_type": "code",
   "execution_count": 45,
   "id": "65483b51",
   "metadata": {},
   "outputs": [
    {
     "name": "stdout",
     "output_type": "stream",
     "text": [
      "[[ 3  4  5]\n",
      " [ 8  9 10]]\n"
     ]
    }
   ],
   "source": [
    "arr = np.array([[1,2,3,4,5],[6,7,8,9,10]])\n",
    "\n",
    "print(arr[0:2, 2:5])"
   ]
  },
  {
   "cell_type": "markdown",
   "id": "d9889441",
   "metadata": {},
   "source": [
    "### NumPy Data Types"
   ]
  },
  {
   "cell_type": "code",
   "execution_count": 3,
   "id": "9fb4993a",
   "metadata": {},
   "outputs": [
    {
     "name": "stdout",
     "output_type": "stream",
     "text": [
      "int32\n"
     ]
    }
   ],
   "source": [
    "arr = np.array([1, 5, 6, 7])\n",
    "print(arr.dtype)"
   ]
  },
  {
   "cell_type": "code",
   "execution_count": 4,
   "id": "cff9787c",
   "metadata": {},
   "outputs": [
    {
     "name": "stdout",
     "output_type": "stream",
     "text": [
      "<U6\n"
     ]
    }
   ],
   "source": [
    "arr = np.array([\"Apple\", \"Banana\", \"Cherry\"])\n",
    "\n",
    "print(arr.dtype)"
   ]
  },
  {
   "cell_type": "markdown",
   "id": "6dff0f12",
   "metadata": {},
   "source": [
    "### Creating Arrays with a Defined Data Types"
   ]
  },
  {
   "cell_type": "code",
   "execution_count": 23,
   "id": "a21bb72f",
   "metadata": {},
   "outputs": [
    {
     "name": "stdout",
     "output_type": "stream",
     "text": [
      "[b'1' b'2' b'3' b'4']\n",
      "|S1\n"
     ]
    }
   ],
   "source": [
    "arr = np.array([1,2,3,4], dtype = \"S\")\n",
    "\n",
    "print(arr)\n",
    "print(arr.dtype)"
   ]
  },
  {
   "cell_type": "code",
   "execution_count": 15,
   "id": "0fe52b74",
   "metadata": {},
   "outputs": [
    {
     "name": "stdout",
     "output_type": "stream",
     "text": [
      "[1 5 7 9]\n",
      "int32\n"
     ]
    }
   ],
   "source": [
    "arr = np.array([1,5,7,9], dtype = \"i4\")\n",
    "print(arr)\n",
    "print(arr.dtype)"
   ]
  },
  {
   "cell_type": "code",
   "execution_count": 16,
   "id": "c0c5cec1",
   "metadata": {},
   "outputs": [
    {
     "name": "stdout",
     "output_type": "stream",
     "text": [
      "int32\n"
     ]
    }
   ],
   "source": [
    "cvv = np.array([2,5,7,6])\n",
    "print(cvv.dtype)"
   ]
  },
  {
   "cell_type": "code",
   "execution_count": 18,
   "id": "37364110",
   "metadata": {},
   "outputs": [
    {
     "name": "stdout",
     "output_type": "stream",
     "text": [
      "[2 5 7 6]\n"
     ]
    }
   ],
   "source": [
    "cx = np.array(cvv, dtype = \"int64\")\n",
    "print(cx)"
   ]
  },
  {
   "cell_type": "code",
   "execution_count": 19,
   "id": "6f3e82cd",
   "metadata": {},
   "outputs": [
    {
     "data": {
      "text/plain": [
       "dtype('int32')"
      ]
     },
     "execution_count": 19,
     "metadata": {},
     "output_type": "execute_result"
    }
   ],
   "source": [
    "w = np.array([2,6,7,9])\n",
    "\n",
    "w.dtype"
   ]
  },
  {
   "cell_type": "code",
   "execution_count": 22,
   "id": "8468afa0",
   "metadata": {},
   "outputs": [
    {
     "data": {
      "text/plain": [
       "dtype('int64')"
      ]
     },
     "execution_count": 22,
     "metadata": {},
     "output_type": "execute_result"
    }
   ],
   "source": [
    "q = np.array([2,5,8,6], dtype = 'int64')\n",
    "q.dtype"
   ]
  },
  {
   "cell_type": "markdown",
   "id": "b9e356a7",
   "metadata": {},
   "source": [
    "### Converting Data Type on Existing Arrays"
   ]
  },
  {
   "cell_type": "code",
   "execution_count": 2,
   "id": "c7257cb8",
   "metadata": {},
   "outputs": [
    {
     "name": "stdout",
     "output_type": "stream",
     "text": [
      "[5 2 3]\n",
      "int32\n"
     ]
    }
   ],
   "source": [
    "arr = np.array([5.5, 2.1, 3.7])\n",
    "\n",
    "newarr = arr.astype('i')\n",
    "\n",
    "print(newarr)\n",
    "print(newarr.dtype)"
   ]
  },
  {
   "cell_type": "code",
   "execution_count": 3,
   "id": "8a704032",
   "metadata": {},
   "outputs": [
    {
     "name": "stdout",
     "output_type": "stream",
     "text": [
      "[3 4 6]\n",
      "int32\n"
     ]
    }
   ],
   "source": [
    "arr = np.array([3.8, 4.3,6.1])\n",
    "newarr = arr.astype(int)\n",
    "\n",
    "print(newarr)\n",
    "print(newarr.dtype)"
   ]
  },
  {
   "cell_type": "code",
   "execution_count": 8,
   "id": "1c19446f",
   "metadata": {},
   "outputs": [
    {
     "name": "stdout",
     "output_type": "stream",
     "text": [
      "[ True False  True]\n",
      "bool\n"
     ]
    }
   ],
   "source": [
    "arr = np.array([1,0,5])\n",
    "\n",
    "newarr = arr.astype(bool)\n",
    "\n",
    "print(newarr)\n",
    "print(newarr.dtype)"
   ]
  },
  {
   "cell_type": "markdown",
   "id": "09b4b15d",
   "metadata": {},
   "source": [
    "### NumPy Array Copy vs View"
   ]
  },
  {
   "cell_type": "code",
   "execution_count": 9,
   "id": "afb55338",
   "metadata": {},
   "outputs": [
    {
     "name": "stdout",
     "output_type": "stream",
     "text": [
      "[42  2  3  4  5]\n",
      "[1 2 3 4 5]\n"
     ]
    }
   ],
   "source": [
    "# Copy\n",
    "\n",
    "nd = np.array([1,2,3,4,5])\n",
    "\n",
    "x = nd.copy()\n",
    "nd[0] = (42)\n",
    "\n",
    "print(nd)\n",
    "print(x)"
   ]
  },
  {
   "cell_type": "code",
   "execution_count": 12,
   "id": "5ddb1836",
   "metadata": {},
   "outputs": [
    {
     "name": "stdout",
     "output_type": "stream",
     "text": [
      "[45  2  3  4  5]\n",
      "[45  2  3  4  5]\n"
     ]
    }
   ],
   "source": [
    "# View\n",
    "dn = np.array([1,2,3,4,5])\n",
    "x = dn.view()\n",
    "dn[0] = (45)\n",
    "\n",
    "print(dn)\n",
    "print(x)"
   ]
  },
  {
   "cell_type": "code",
   "execution_count": 13,
   "id": "1b7874a8",
   "metadata": {},
   "outputs": [],
   "source": [
    "gh = np.array([2,5,6,7])\n",
    "t = gh.copy()"
   ]
  },
  {
   "cell_type": "code",
   "execution_count": 14,
   "id": "704d6c1d",
   "metadata": {},
   "outputs": [
    {
     "data": {
      "text/plain": [
       "array([2, 5, 6, 7])"
      ]
     },
     "execution_count": 14,
     "metadata": {},
     "output_type": "execute_result"
    }
   ],
   "source": [
    "gh"
   ]
  },
  {
   "cell_type": "code",
   "execution_count": 15,
   "id": "257fb93a",
   "metadata": {},
   "outputs": [
    {
     "data": {
      "text/plain": [
       "array([2, 5, 6, 7])"
      ]
     },
     "execution_count": 15,
     "metadata": {},
     "output_type": "execute_result"
    }
   ],
   "source": [
    "t"
   ]
  },
  {
   "cell_type": "code",
   "execution_count": 19,
   "id": "5e57c113",
   "metadata": {},
   "outputs": [],
   "source": [
    "gh[2] = 4"
   ]
  },
  {
   "cell_type": "code",
   "execution_count": 20,
   "id": "f44218e6",
   "metadata": {},
   "outputs": [
    {
     "data": {
      "text/plain": [
       "array([2, 5, 4, 7])"
      ]
     },
     "execution_count": 20,
     "metadata": {},
     "output_type": "execute_result"
    }
   ],
   "source": [
    "gh # Change Element"
   ]
  },
  {
   "cell_type": "code",
   "execution_count": 21,
   "id": "04bc92ae",
   "metadata": {},
   "outputs": [
    {
     "data": {
      "text/plain": [
       "array([2, 5, 6, 7])"
      ]
     },
     "execution_count": 21,
     "metadata": {},
     "output_type": "execute_result"
    }
   ],
   "source": [
    "t"
   ]
  },
  {
   "cell_type": "code",
   "execution_count": 22,
   "id": "17a0bff5",
   "metadata": {},
   "outputs": [],
   "source": [
    "hg = np.array([3,4,6,7])\n",
    "y = hg.view()"
   ]
  },
  {
   "cell_type": "code",
   "execution_count": 23,
   "id": "dde916a2",
   "metadata": {},
   "outputs": [
    {
     "data": {
      "text/plain": [
       "array([3, 4, 6, 7])"
      ]
     },
     "execution_count": 23,
     "metadata": {},
     "output_type": "execute_result"
    }
   ],
   "source": [
    "hg"
   ]
  },
  {
   "cell_type": "code",
   "execution_count": 24,
   "id": "ab6ecc99",
   "metadata": {},
   "outputs": [
    {
     "data": {
      "text/plain": [
       "array([3, 4, 6, 7])"
      ]
     },
     "execution_count": 24,
     "metadata": {},
     "output_type": "execute_result"
    }
   ],
   "source": [
    "y"
   ]
  },
  {
   "cell_type": "code",
   "execution_count": 25,
   "id": "4202e1e0",
   "metadata": {},
   "outputs": [],
   "source": [
    "hg[1] = 5"
   ]
  },
  {
   "cell_type": "code",
   "execution_count": 26,
   "id": "c1d09508",
   "metadata": {},
   "outputs": [
    {
     "data": {
      "text/plain": [
       "array([3, 5, 6, 7])"
      ]
     },
     "execution_count": 26,
     "metadata": {},
     "output_type": "execute_result"
    }
   ],
   "source": [
    "hg"
   ]
  },
  {
   "cell_type": "code",
   "execution_count": 27,
   "id": "16748a32",
   "metadata": {},
   "outputs": [
    {
     "data": {
      "text/plain": [
       "array([3, 5, 6, 7])"
      ]
     },
     "execution_count": 27,
     "metadata": {},
     "output_type": "execute_result"
    }
   ],
   "source": [
    "y"
   ]
  },
  {
   "cell_type": "code",
   "execution_count": 28,
   "id": "d5f3fe60",
   "metadata": {},
   "outputs": [],
   "source": [
    "sd = np.array([6,7,9,1])\n",
    "r = sd.view()"
   ]
  },
  {
   "cell_type": "code",
   "execution_count": 29,
   "id": "dff0586d",
   "metadata": {},
   "outputs": [],
   "source": [
    "r[2] = 8"
   ]
  },
  {
   "cell_type": "code",
   "execution_count": 30,
   "id": "5160dd76",
   "metadata": {},
   "outputs": [
    {
     "data": {
      "text/plain": [
       "array([6, 7, 8, 1])"
      ]
     },
     "execution_count": 30,
     "metadata": {},
     "output_type": "execute_result"
    }
   ],
   "source": [
    "r"
   ]
  },
  {
   "cell_type": "code",
   "execution_count": 31,
   "id": "5954a447",
   "metadata": {},
   "outputs": [
    {
     "data": {
      "text/plain": [
       "array([6, 7, 8, 1])"
      ]
     },
     "execution_count": 31,
     "metadata": {},
     "output_type": "execute_result"
    }
   ],
   "source": [
    "sd"
   ]
  },
  {
   "cell_type": "code",
   "execution_count": 34,
   "id": "963f222e",
   "metadata": {},
   "outputs": [
    {
     "name": "stdout",
     "output_type": "stream",
     "text": [
      "None\n",
      "[1 2 3 4 5]\n"
     ]
    }
   ],
   "source": [
    "fg = np.array([1,2,3,4,5])\n",
    "\n",
    "x = fg.copy()\n",
    "y = fg.view()\n",
    "\n",
    "print(x.base)\n",
    "print(y.base)"
   ]
  },
  {
   "cell_type": "code",
   "execution_count": 35,
   "id": "f4716c53",
   "metadata": {},
   "outputs": [
    {
     "name": "stdout",
     "output_type": "stream",
     "text": [
      "None\n",
      "[5 4 9 6]\n"
     ]
    }
   ],
   "source": [
    "gf = np.array([5,4,9,6])\n",
    "\n",
    "x = gf.copy()\n",
    "y = gf.view()\n",
    "\n",
    "print(gf.base)\n",
    "print(y.base)"
   ]
  },
  {
   "cell_type": "markdown",
   "id": "97396e19",
   "metadata": {},
   "source": [
    "### NumPy Array Shape"
   ]
  },
  {
   "cell_type": "code",
   "execution_count": 3,
   "id": "6c7797b9",
   "metadata": {},
   "outputs": [
    {
     "name": "stdout",
     "output_type": "stream",
     "text": [
      "(2, 5)\n"
     ]
    }
   ],
   "source": [
    "# Get The Shape of an Array\n",
    "\n",
    "arr = np.array([[1,2,3,4,5],[6,7,8,9,10]])\n",
    "\n",
    "print(arr.shape)"
   ]
  },
  {
   "cell_type": "code",
   "execution_count": 6,
   "id": "0fc6e021",
   "metadata": {},
   "outputs": [
    {
     "name": "stdout",
     "output_type": "stream",
     "text": [
      "[[[[[1 2 3 4]]]]]\n",
      "Shape of Array:  (1, 1, 1, 1, 4)\n"
     ]
    }
   ],
   "source": [
    "arr = np.array([1,2,3,4], ndmin = 5)\n",
    "\n",
    "print(arr)\n",
    "print(\"Shape of Array: \", arr.shape)"
   ]
  },
  {
   "cell_type": "markdown",
   "id": "803b7962",
   "metadata": {},
   "source": [
    "### NumPy Array Reshaping"
   ]
  },
  {
   "cell_type": "markdown",
   "id": "dea9cdf3",
   "metadata": {},
   "source": [
    "##### Reshape from 1-D to 2-D"
   ]
  },
  {
   "cell_type": "code",
   "execution_count": 7,
   "id": "aef81b49",
   "metadata": {},
   "outputs": [
    {
     "name": "stdout",
     "output_type": "stream",
     "text": [
      "[ 1  2  3  4  5  6  7  8  9 10 11 12]\n",
      "[[ 1  2  3]\n",
      " [ 4  5  6]\n",
      " [ 7  8  9]\n",
      " [10 11 12]]\n"
     ]
    }
   ],
   "source": [
    "re = np.array([1,2,3,4,5,6,7,8,9,10,11,12])\n",
    "\n",
    "nre = re.reshape(4,3)\n",
    "\n",
    "print(re)\n",
    "print(nre)"
   ]
  },
  {
   "cell_type": "markdown",
   "id": "2d7a0fd2",
   "metadata": {},
   "source": [
    "##### Reshape from 1-D to 3-D"
   ]
  },
  {
   "cell_type": "code",
   "execution_count": 13,
   "id": "66605b6b",
   "metadata": {},
   "outputs": [
    {
     "name": "stdout",
     "output_type": "stream",
     "text": [
      "[[[ 1  2]\n",
      "  [ 3  4]]\n",
      "\n",
      " [[ 5  6]\n",
      "  [ 7  8]]\n",
      "\n",
      " [[ 9 10]\n",
      "  [11 12]]]\n"
     ]
    }
   ],
   "source": [
    "arr = np.array([1,2,3,4,5,6,7,8,9,10,11,12])\n",
    "\n",
    "nre = arr.reshape(3,2,2)\n",
    "\n",
    "print(nre)"
   ]
  },
  {
   "cell_type": "markdown",
   "id": "3fc5f574",
   "metadata": {},
   "source": [
    "##### Returns Copy or View"
   ]
  },
  {
   "cell_type": "code",
   "execution_count": 16,
   "id": "8b19ba44",
   "metadata": {},
   "outputs": [
    {
     "name": "stdout",
     "output_type": "stream",
     "text": [
      "[1 2 3 4 5 6 7 8]\n"
     ]
    }
   ],
   "source": [
    "arr = np.array([1,2,3,4,5,6,7,8])\n",
    "\n",
    "print(arr.reshape(2,4).base)"
   ]
  },
  {
   "cell_type": "markdown",
   "id": "05a8c574",
   "metadata": {},
   "source": [
    "### Unknown Dimension"
   ]
  },
  {
   "cell_type": "code",
   "execution_count": 19,
   "id": "749b60e7",
   "metadata": {},
   "outputs": [
    {
     "name": "stdout",
     "output_type": "stream",
     "text": [
      "[[[1 2]\n",
      "  [3 4]]\n",
      "\n",
      " [[5 6]\n",
      "  [7 8]]]\n"
     ]
    }
   ],
   "source": [
    "arr = np.array([1,2,3,4,5,6,7,8])\n",
    "\n",
    "nre = arr.reshape(2,2,-1)\n",
    "\n",
    "print(nre)"
   ]
  },
  {
   "cell_type": "markdown",
   "id": "bd6b75ae",
   "metadata": {},
   "source": [
    "### Flattening the Arrays"
   ]
  },
  {
   "cell_type": "code",
   "execution_count": 20,
   "id": "9f71bbd7",
   "metadata": {},
   "outputs": [
    {
     "name": "stdout",
     "output_type": "stream",
     "text": [
      "[1 2 3 4 5 6 7 8]\n"
     ]
    }
   ],
   "source": [
    "arr = np.array([[1,2,3,4],[5,6,7,8]])\n",
    "\n",
    "nre = arr.reshape(-1)\n",
    "\n",
    "print(nre)"
   ]
  },
  {
   "cell_type": "markdown",
   "id": "1c81e607",
   "metadata": {},
   "source": [
    "### NumPy Array Interaping"
   ]
  },
  {
   "cell_type": "code",
   "execution_count": 21,
   "id": "655f97a0",
   "metadata": {},
   "outputs": [
    {
     "name": "stdout",
     "output_type": "stream",
     "text": [
      "1\n",
      "2\n",
      "3\n"
     ]
    }
   ],
   "source": [
    "arr = np.array([1,2,3])\n",
    "\n",
    "for x in arr:\n",
    "    print(x)"
   ]
  },
  {
   "cell_type": "code",
   "execution_count": 28,
   "id": "d78734d4",
   "metadata": {},
   "outputs": [
    {
     "name": "stdout",
     "output_type": "stream",
     "text": [
      "1\n",
      "2\n",
      "3\n",
      "4\n",
      "5\n",
      "6\n",
      "7\n",
      "8\n"
     ]
    }
   ],
   "source": [
    "arr = np.array([[1,2,3,4],[5,6,7,8]])\n",
    "\n",
    "for x in arr:\n",
    "    for y in x:\n",
    "        print(y)"
   ]
  },
  {
   "cell_type": "markdown",
   "id": "b0bfcf8b",
   "metadata": {},
   "source": [
    "#### Interaping 2-D Arrays"
   ]
  },
  {
   "cell_type": "code",
   "execution_count": 29,
   "id": "35aac3f6",
   "metadata": {},
   "outputs": [
    {
     "name": "stdout",
     "output_type": "stream",
     "text": [
      "[1 2 3]\n",
      "[4 5 6]\n"
     ]
    }
   ],
   "source": [
    "arr = np.array([[1,2,3],[4,5,6]])\n",
    "\n",
    "for x in arr:\n",
    "    print(x)"
   ]
  },
  {
   "cell_type": "code",
   "execution_count": 32,
   "id": "b7413ccc",
   "metadata": {},
   "outputs": [
    {
     "name": "stdout",
     "output_type": "stream",
     "text": [
      "x Represents the 2-D Array\n",
      "[[1 2 3]\n",
      " [4 5 6]]\n",
      "x Represents the 2-D Array\n",
      "[[ 7  8  9]\n",
      " [10 11 12]]\n"
     ]
    }
   ],
   "source": [
    "arr = np.array([[[1,2,3],[4,5,6]],[[7,8,9],[10,11,12]]])\n",
    "\n",
    "for x in arr:\n",
    "    print(\"x Represents the 2-D Array\")\n",
    "    print(x)    "
   ]
  },
  {
   "cell_type": "code",
   "execution_count": 38,
   "id": "932a7f20",
   "metadata": {},
   "outputs": [
    {
     "name": "stdout",
     "output_type": "stream",
     "text": [
      "1\n",
      "2\n",
      "3\n",
      "4\n",
      "5\n",
      "6\n",
      "7\n",
      "8\n",
      "9\n",
      "10\n",
      "11\n",
      "12\n"
     ]
    }
   ],
   "source": [
    "arr = np.array([[[1,2,3],[4,5,6]],[[7,8,9],[10,11,12]]])\n",
    "\n",
    "for x in arr:\n",
    "    for y in x:\n",
    "        for z in y:\n",
    "            print(z)"
   ]
  },
  {
   "cell_type": "markdown",
   "id": "87685ae8",
   "metadata": {},
   "source": [
    "### Interating Arrays Using nditer()"
   ]
  },
  {
   "cell_type": "markdown",
   "id": "76ce1ff7",
   "metadata": {},
   "source": [
    "##### Iterate through the following 3-D Array"
   ]
  },
  {
   "cell_type": "code",
   "execution_count": 40,
   "id": "79d57ce3",
   "metadata": {},
   "outputs": [
    {
     "name": "stdout",
     "output_type": "stream",
     "text": [
      "1\n",
      "2\n",
      "3\n",
      "4\n",
      "5\n",
      "6\n",
      "7\n",
      "8\n"
     ]
    }
   ],
   "source": [
    "arr = np.array([[[1,2],[3,4]],[[5,6],[7,8]]])\n",
    "\n",
    "for x in np.nditer(arr):\n",
    "    print(x)"
   ]
  },
  {
   "cell_type": "markdown",
   "id": "ccca846e",
   "metadata": {},
   "source": [
    "#### Iterating Array With Different Data Types"
   ]
  },
  {
   "cell_type": "code",
   "execution_count": 42,
   "id": "96617adb",
   "metadata": {
    "scrolled": true
   },
   "outputs": [
    {
     "name": "stdout",
     "output_type": "stream",
     "text": [
      "b'1'\n",
      "b'2'\n",
      "b'3'\n"
     ]
    }
   ],
   "source": [
    "arr = np.array([1,2,3])\n",
    "\n",
    "for x in np.nditer(arr, flags = ['buffered'], op_dtypes = ['S']):\n",
    "    print(x)"
   ]
  },
  {
   "cell_type": "markdown",
   "id": "35e0af84",
   "metadata": {},
   "source": [
    "#### Iterating With Different Step Size"
   ]
  },
  {
   "cell_type": "code",
   "execution_count": 50,
   "id": "a337522a",
   "metadata": {},
   "outputs": [
    {
     "name": "stdout",
     "output_type": "stream",
     "text": [
      "1\n",
      "3\n",
      "5\n",
      "7\n"
     ]
    }
   ],
   "source": [
    "arr = np.array([[1,2,3,4],[5,6,7,8]])\n",
    "\n",
    "for x in np.nditer(arr[:, ::2]):\n",
    "    print(x)"
   ]
  },
  {
   "cell_type": "markdown",
   "id": "bd8f9c32",
   "metadata": {},
   "source": [
    "### Enumerated Iteration Using ndenumerate()"
   ]
  },
  {
   "cell_type": "markdown",
   "id": "90447fad",
   "metadata": {},
   "source": [
    "#### 1-D"
   ]
  },
  {
   "cell_type": "code",
   "execution_count": 4,
   "id": "4bf30227",
   "metadata": {},
   "outputs": [
    {
     "name": "stdout",
     "output_type": "stream",
     "text": [
      "(0,) 1\n",
      "(1,) 2\n",
      "(2,) 3\n",
      "(3,) 4\n",
      "(4,) 5\n"
     ]
    }
   ],
   "source": [
    "arr = np.array([1,2,3,4,5])\n",
    "\n",
    "for idx, x in np.ndenumerate(arr):\n",
    "    print(idx, x)"
   ]
  },
  {
   "cell_type": "markdown",
   "id": "97056f0e",
   "metadata": {},
   "source": [
    "### Joining NumPy Arrays"
   ]
  },
  {
   "cell_type": "code",
   "execution_count": 6,
   "id": "f03d4e8a",
   "metadata": {},
   "outputs": [
    {
     "name": "stdout",
     "output_type": "stream",
     "text": [
      "[1 2 3 4 5 6]\n"
     ]
    }
   ],
   "source": [
    "arr1 = np.array([1,2,3])\n",
    "arr2 = np.array([4,5,6])\n",
    "\n",
    "arr = np.concatenate((arr1,arr2))\n",
    "print(arr)"
   ]
  },
  {
   "cell_type": "code",
   "execution_count": 9,
   "id": "2616408b",
   "metadata": {},
   "outputs": [
    {
     "name": "stdout",
     "output_type": "stream",
     "text": [
      "[[1 2 5 6]\n",
      " [3 4 7 8]]\n"
     ]
    }
   ],
   "source": [
    "arr1 = np.array([[1,2],[3,4]])\n",
    "arr2 = np.array([[5,6],[7,8]])\n",
    "\n",
    "arr = np.concatenate((arr1,arr2), axis = 1)\n",
    "print(arr)"
   ]
  },
  {
   "cell_type": "markdown",
   "id": "ed428889",
   "metadata": {},
   "source": [
    "### Joining Arrays Using Stack Functions"
   ]
  },
  {
   "cell_type": "code",
   "execution_count": 12,
   "id": "d46c2999",
   "metadata": {},
   "outputs": [
    {
     "name": "stdout",
     "output_type": "stream",
     "text": [
      "[[1 4]\n",
      " [2 5]\n",
      " [3 6]]\n"
     ]
    }
   ],
   "source": [
    "arr1 = np.array([1,2,3])\n",
    "arr2 = np.array([4,5,6])\n",
    "\n",
    "arr = np.stack((arr1,arr2), axis = 1)\n",
    "print(arr)"
   ]
  },
  {
   "cell_type": "markdown",
   "id": "3f8bf80f",
   "metadata": {},
   "source": [
    "### Stacking Along Rows"
   ]
  },
  {
   "cell_type": "code",
   "execution_count": 13,
   "id": "7201e8fa",
   "metadata": {},
   "outputs": [
    {
     "name": "stdout",
     "output_type": "stream",
     "text": [
      "[1 2 3 4 5 6]\n"
     ]
    }
   ],
   "source": [
    "arr1 = np.array([1,2,3])\n",
    "arr2 = np.array([4,5,6])\n",
    "\n",
    "arr = np.hstack((arr1,arr2))\n",
    "print(arr)"
   ]
  },
  {
   "cell_type": "markdown",
   "id": "00209bab",
   "metadata": {},
   "source": [
    "### Stacking Along Columns"
   ]
  },
  {
   "cell_type": "code",
   "execution_count": 14,
   "id": "74d5bfe9",
   "metadata": {},
   "outputs": [
    {
     "name": "stdout",
     "output_type": "stream",
     "text": [
      "[[1 2 3]\n",
      " [4 5 6]]\n"
     ]
    }
   ],
   "source": [
    "arr1 = np.array([1,2,3])\n",
    "arr2 = np.array([4,5,6])\n",
    "\n",
    "arr = np.vstack((arr1,arr2))\n",
    "print(arr)"
   ]
  },
  {
   "cell_type": "markdown",
   "id": "25846bb5",
   "metadata": {},
   "source": [
    "### Stacking Along Height (depth)"
   ]
  },
  {
   "cell_type": "code",
   "execution_count": 3,
   "id": "28237af8",
   "metadata": {},
   "outputs": [
    {
     "name": "stdout",
     "output_type": "stream",
     "text": [
      "[[[1 4]\n",
      "  [2 5]\n",
      "  [3 6]]]\n"
     ]
    }
   ],
   "source": [
    "arr1 = np.array([1,2,3])\n",
    "arr2 = np.array([4,5,6])\n",
    "\n",
    "arr = np.dstack((arr1,arr2))\n",
    "\n",
    "print(arr)"
   ]
  },
  {
   "cell_type": "markdown",
   "id": "b1e7208c",
   "metadata": {},
   "source": [
    "### NumPy Splitting Array"
   ]
  },
  {
   "cell_type": "code",
   "execution_count": 18,
   "id": "ca9c7274",
   "metadata": {},
   "outputs": [
    {
     "name": "stdout",
     "output_type": "stream",
     "text": [
      "[array([1, 2]), array([3, 4]), array([5, 6])]\n"
     ]
    }
   ],
   "source": [
    "arr = np.array([1,2,3,4,5,6])\n",
    "\n",
    "nre = np.array_split(arr, 3)\n",
    "\n",
    "print(nre)"
   ]
  },
  {
   "cell_type": "code",
   "execution_count": 9,
   "id": "ecf8490a",
   "metadata": {},
   "outputs": [
    {
     "name": "stdout",
     "output_type": "stream",
     "text": [
      "[array([1, 2]), array([3, 4]), array([5]), array([6])]\n"
     ]
    }
   ],
   "source": [
    "brr = np.array([1,2,3,4,5,6])\n",
    "\n",
    "nre = np.array_split(brr, 4)\n",
    "\n",
    "print(nre)"
   ]
  },
  {
   "cell_type": "code",
   "execution_count": 10,
   "id": "8162a0e1",
   "metadata": {},
   "outputs": [
    {
     "name": "stdout",
     "output_type": "stream",
     "text": [
      "[1 2]\n",
      "[3 4]\n",
      "[5 6]\n"
     ]
    }
   ],
   "source": [
    "at = np.array([1,2,3,4,5,6])\n",
    "\n",
    "nat = np.array_split(at, 3)\n",
    "\n",
    "print(nat[0])\n",
    "print(nat[1])\n",
    "print(nat[2])"
   ]
  },
  {
   "cell_type": "code",
   "execution_count": 11,
   "id": "e7a7479c",
   "metadata": {},
   "outputs": [
    {
     "name": "stdout",
     "output_type": "stream",
     "text": [
      "[array([[1, 2],\n",
      "       [3, 4]]), array([[5, 6],\n",
      "       [7, 8]]), array([[ 9, 10],\n",
      "       [11, 12]])]\n"
     ]
    }
   ],
   "source": [
    "ta = np.array([[1,2], [3,4], [5,6], [7,8], [9,10], [11,12]])\n",
    "\n",
    "nta = np.array_split(ta, 3)\n",
    "\n",
    "print(nta)"
   ]
  },
  {
   "cell_type": "code",
   "execution_count": 12,
   "id": "52e37835",
   "metadata": {},
   "outputs": [
    {
     "name": "stdout",
     "output_type": "stream",
     "text": [
      "[array([[1, 2, 3],\n",
      "       [4, 5, 6]]), array([[ 7,  8,  9],\n",
      "       [10, 11, 12]]), array([[13, 14, 15],\n",
      "       [16, 17, 18]])]\n"
     ]
    }
   ],
   "source": [
    "re = np.array([[1,2,3], [4,5,6], [7,8,9], [10,11,12], [13,14,15], [16,17,18]])\n",
    "\n",
    "nre = np.array_split(re, 3)\n",
    "\n",
    "print(nre)"
   ]
  },
  {
   "cell_type": "code",
   "execution_count": 13,
   "id": "9f77df17",
   "metadata": {},
   "outputs": [
    {
     "name": "stdout",
     "output_type": "stream",
     "text": [
      "[array([[ 1],\n",
      "       [ 4],\n",
      "       [ 7],\n",
      "       [10],\n",
      "       [13],\n",
      "       [16]]), array([[ 2],\n",
      "       [ 5],\n",
      "       [ 8],\n",
      "       [11],\n",
      "       [14],\n",
      "       [17]]), array([[ 3],\n",
      "       [ 6],\n",
      "       [ 9],\n",
      "       [12],\n",
      "       [15],\n",
      "       [18]])]\n"
     ]
    }
   ],
   "source": [
    "m = np.array([[1,2,3], [4,5,6], [7,8,9], [10,11,12], [13,14,15], [16,17,18]])\n",
    "\n",
    "nm = np.array_split(m, 3, axis = 1)\n",
    "\n",
    "print(nm)"
   ]
  },
  {
   "cell_type": "code",
   "execution_count": 14,
   "id": "62d57a34",
   "metadata": {},
   "outputs": [
    {
     "name": "stdout",
     "output_type": "stream",
     "text": [
      "[array([[ 1],\n",
      "       [ 4],\n",
      "       [ 7],\n",
      "       [10],\n",
      "       [13],\n",
      "       [16]]), array([[ 2],\n",
      "       [ 5],\n",
      "       [ 8],\n",
      "       [11],\n",
      "       [14],\n",
      "       [17]]), array([[ 3],\n",
      "       [ 6],\n",
      "       [ 9],\n",
      "       [12],\n",
      "       [15],\n",
      "       [18]])]\n"
     ]
    }
   ],
   "source": [
    "wm = np.array([[1,2,3], [4,5,6], [7,8,9], [10,11,12], [13,14,15], [16,17,18]])\n",
    "\n",
    "nwm = np.hsplit(wm, 3)\n",
    "\n",
    "print(nwm)"
   ]
  },
  {
   "cell_type": "markdown",
   "id": "599a8129",
   "metadata": {},
   "source": [
    "### Opp"
   ]
  },
  {
   "cell_type": "code",
   "execution_count": 15,
   "id": "6274c903",
   "metadata": {},
   "outputs": [
    {
     "name": "stdout",
     "output_type": "stream",
     "text": [
      "[ 1  2  3  4  5  6  7  8  9 10 11 12 13 14 15 16 17 18]\n"
     ]
    }
   ],
   "source": [
    "qm = np.array([[1,2,3], [4,5,6], [7,8,9], [10,11,12], [13,14,15], [16,17,18]])\n",
    "\n",
    "nqm = np.hstack(qm)\n",
    "\n",
    "print(nqm)"
   ]
  },
  {
   "cell_type": "code",
   "execution_count": 23,
   "id": "74399843",
   "metadata": {},
   "outputs": [
    {
     "name": "stdout",
     "output_type": "stream",
     "text": [
      "[array([[1, 2, 3],\n",
      "       [4, 5, 6]]), array([[ 7,  8,  9],\n",
      "       [10, 11, 12]]), array([[13, 14, 15],\n",
      "       [16, 17, 18]])]\n"
     ]
    }
   ],
   "source": [
    "am = np.array([[1,2,3], [4,5,6], [7,8,9], [10,11,12], [13,14,15], [16,17,18]])\n",
    "\n",
    "nam = np.vsplit(am, 3)\n",
    "\n",
    "print(nam)"
   ]
  },
  {
   "cell_type": "code",
   "execution_count": 31,
   "id": "6873372a",
   "metadata": {},
   "outputs": [
    {
     "name": "stdout",
     "output_type": "stream",
     "text": [
      "[array([[[ 1],\n",
      "        [ 4],\n",
      "        [ 7]],\n",
      "\n",
      "       [[10],\n",
      "        [13],\n",
      "        [16]]]), array([[[ 2],\n",
      "        [ 5],\n",
      "        [ 8]],\n",
      "\n",
      "       [[11],\n",
      "        [14],\n",
      "        [17]]]), array([[[ 3],\n",
      "        [ 6],\n",
      "        [ 9]],\n",
      "\n",
      "       [[12],\n",
      "        [15],\n",
      "        [18]]])] "
     ]
    }
   ],
   "source": [
    "zm = np.array([[[1,2,3], [4,5,6], [7,8,9]], [[10,11,12], [13,14,15], [16,17,18]]])\n",
    "\n",
    "nzm = np.dsplit(zm, 3)\n",
    "\n",
    "print(nzm, end = \" \")"
   ]
  },
  {
   "cell_type": "markdown",
   "id": "ec1322c0",
   "metadata": {},
   "source": [
    "### NumPy Searching Arrays"
   ]
  },
  {
   "cell_type": "code",
   "execution_count": 32,
   "id": "322b88c8",
   "metadata": {},
   "outputs": [
    {
     "name": "stdout",
     "output_type": "stream",
     "text": [
      "(array([3, 5, 7], dtype=int64),)\n"
     ]
    }
   ],
   "source": [
    "sd = np.array([1,2,3,4,5,4,6,4])\n",
    "\n",
    "nsd = np.where(sd == 4)\n",
    "\n",
    "print(nsd)"
   ]
  },
  {
   "cell_type": "code",
   "execution_count": 38,
   "id": "dab5be98",
   "metadata": {},
   "outputs": [
    {
     "name": "stdout",
     "output_type": "stream",
     "text": [
      "(array([1, 3, 5, 7, 8], dtype=int64),)\n"
     ]
    }
   ],
   "source": [
    "sd = np.array([1,2,3,4,5,6,7,8,10])\n",
    "\n",
    "nsd = np.where(sd%2 == 0)\n",
    "\n",
    "print(nsd)"
   ]
  },
  {
   "cell_type": "code",
   "execution_count": 39,
   "id": "cec000b4",
   "metadata": {},
   "outputs": [
    {
     "name": "stdout",
     "output_type": "stream",
     "text": [
      "(array([0, 2, 4, 6], dtype=int64),)\n"
     ]
    }
   ],
   "source": [
    "sd = np.array([1,2,3,4,5,6,7,8,10])\n",
    "\n",
    "nsd = np.where(sd%2 == 1)\n",
    "\n",
    "print(nsd)"
   ]
  },
  {
   "cell_type": "markdown",
   "id": "d248bdce",
   "metadata": {},
   "source": [
    "### Search Sorted"
   ]
  },
  {
   "cell_type": "code",
   "execution_count": 40,
   "id": "8261ad15",
   "metadata": {},
   "outputs": [
    {
     "name": "stdout",
     "output_type": "stream",
     "text": [
      "3\n"
     ]
    }
   ],
   "source": [
    "sd = np.array([1,2,3,4,5,6,7,8,10])\n",
    "\n",
    "nsd = np.searchsorted(sd, 4)\n",
    "\n",
    "print(nsd)"
   ]
  },
  {
   "cell_type": "code",
   "execution_count": 51,
   "id": "a6792f55",
   "metadata": {},
   "outputs": [
    {
     "name": "stdout",
     "output_type": "stream",
     "text": [
      "2\n"
     ]
    }
   ],
   "source": [
    "arr = np.array([6, 7, 8, 9])\n",
    "\n",
    "x = np.searchsorted(arr, 7, side='right')\n",
    "\n",
    "print(x)"
   ]
  },
  {
   "cell_type": "code",
   "execution_count": 66,
   "id": "b6c1cbed",
   "metadata": {},
   "outputs": [
    {
     "name": "stdout",
     "output_type": "stream",
     "text": [
      "3\n"
     ]
    }
   ],
   "source": [
    "br = np.array([5,6,7,8])\n",
    "\n",
    "z = np.searchsorted(br, 7, side='right')\n",
    "\n",
    "print(z)"
   ]
  },
  {
   "cell_type": "code",
   "execution_count": 2,
   "id": "35c39e50",
   "metadata": {},
   "outputs": [
    {
     "name": "stdout",
     "output_type": "stream",
     "text": [
      "[1 3]\n"
     ]
    }
   ],
   "source": [
    "ar = np.array([1,3,5,7])\n",
    "\n",
    "nar = np.searchsorted(ar, [2,4,6])\n",
    "\n",
    "print(nar)"
   ]
  },
  {
   "cell_type": "markdown",
   "id": "e6293501",
   "metadata": {},
   "source": [
    "### NumPy Sorting Arrays"
   ]
  },
  {
   "cell_type": "code",
   "execution_count": 3,
   "id": "eb4134b4",
   "metadata": {},
   "outputs": [
    {
     "name": "stdout",
     "output_type": "stream",
     "text": [
      "[1 2 3 4 9]\n"
     ]
    }
   ],
   "source": [
    "ae = np.array([4,2,9,3,1])\n",
    "\n",
    "print(np.sort(ae))"
   ]
  },
  {
   "cell_type": "code",
   "execution_count": 4,
   "id": "9d5fe000",
   "metadata": {},
   "outputs": [
    {
     "data": {
      "text/plain": [
       "array([4, 2, 9, 3, 1])"
      ]
     },
     "execution_count": 4,
     "metadata": {},
     "output_type": "execute_result"
    }
   ],
   "source": [
    "ae"
   ]
  },
  {
   "cell_type": "code",
   "execution_count": 6,
   "id": "112f39f5",
   "metadata": {},
   "outputs": [
    {
     "name": "stdout",
     "output_type": "stream",
     "text": [
      "['Apple' 'Banana' 'Mango' 'Orange']\n"
     ]
    }
   ],
   "source": [
    "ft = np.array([\"Orange\", \"Banana\", \"Mango\", \"Apple\"])\n",
    "\n",
    "print(np.sort(ft))"
   ]
  },
  {
   "cell_type": "code",
   "execution_count": 2,
   "id": "82656164",
   "metadata": {},
   "outputs": [
    {
     "name": "stdout",
     "output_type": "stream",
     "text": [
      "[False  True  True]\n"
     ]
    }
   ],
   "source": [
    "arr = np.array([True, False, True])\n",
    "\n",
    "print(np.sort(arr))"
   ]
  },
  {
   "cell_type": "markdown",
   "id": "dcb0646b",
   "metadata": {},
   "source": [
    "### Sorting 2-D Array"
   ]
  },
  {
   "cell_type": "code",
   "execution_count": 4,
   "id": "7b2d6e13",
   "metadata": {},
   "outputs": [
    {
     "name": "stdout",
     "output_type": "stream",
     "text": [
      "[[3 4 8]\n",
      " [2 5 7]]\n"
     ]
    }
   ],
   "source": [
    "ass = np.array([[4,3,8], [5,7,2]])\n",
    "\n",
    "print(np.sort(ass))"
   ]
  },
  {
   "cell_type": "markdown",
   "id": "7ffbd87d",
   "metadata": {},
   "source": [
    "## NumPy Filter Array"
   ]
  },
  {
   "cell_type": "code",
   "execution_count": 7,
   "id": "734489a1",
   "metadata": {},
   "outputs": [
    {
     "name": "stdout",
     "output_type": "stream",
     "text": [
      "[31 33]\n"
     ]
    }
   ],
   "source": [
    "dss = np.array([31,32,33,34])\n",
    "\n",
    "z = [True, False, True, False]\n",
    "\n",
    "ndss = dss[z]\n",
    "\n",
    "print(ndss)"
   ]
  },
  {
   "cell_type": "markdown",
   "id": "c4f7a64e",
   "metadata": {},
   "source": [
    "### Creating the Filter Array"
   ]
  },
  {
   "cell_type": "code",
   "execution_count": 17,
   "id": "959e2b54",
   "metadata": {},
   "outputs": [
    {
     "name": "stdout",
     "output_type": "stream",
     "text": [
      "[False, False, True, True]\n",
      "[33 34]\n"
     ]
    }
   ],
   "source": [
    "cff = np.array([31,32,33,34])\n",
    "\n",
    "filter_cff = []\n",
    "\n",
    "for x in cff:\n",
    "    if x > 32:\n",
    "        filter_cff.append(True)\n",
    "    else:\n",
    "        filter_cff.append(False)\n",
    "        \n",
    "ncff = cff[filter_cff]\n",
    "\n",
    "print(filter_cff)\n",
    "print(ncff)"
   ]
  },
  {
   "cell_type": "code",
   "execution_count": 19,
   "id": "9d4d3525",
   "metadata": {},
   "outputs": [
    {
     "name": "stdout",
     "output_type": "stream",
     "text": [
      "[False, False, True, False, True, False, False, True, True, True]\n",
      "[ 1  3  4  9  6  7  5  8 10  2]\n"
     ]
    }
   ],
   "source": [
    "sdd = np.array([1,3,4,9,6,7,5,8,10,2])\n",
    "\n",
    "f_sdd = []\n",
    "\n",
    "for x in sdd:\n",
    "    if x % 2 ==0:\n",
    "        f_sdd.append(True)\n",
    "    else:\n",
    "        f_sdd.append(False)\n",
    "        \n",
    "nsdd = sdd[f_sdd]\n",
    "\n",
    "print(f_sdd)\n",
    "print(sdd)"
   ]
  },
  {
   "cell_type": "markdown",
   "id": "010340ff",
   "metadata": {},
   "source": [
    "### Creating Filter Directly From Array"
   ]
  },
  {
   "cell_type": "code",
   "execution_count": 20,
   "id": "cb2c0c5a",
   "metadata": {},
   "outputs": [
    {
     "name": "stdout",
     "output_type": "stream",
     "text": [
      "[False False  True  True]\n",
      "[33 34]\n"
     ]
    }
   ],
   "source": [
    "saa = np.array([31,32,33,34])\n",
    "\n",
    "f_saa = saa > 32\n",
    "\n",
    "nsaa = saa[f_saa]\n",
    "\n",
    "print(f_saa)\n",
    "print(nsaa)"
   ]
  },
  {
   "cell_type": "code",
   "execution_count": 21,
   "id": "ba1bf164",
   "metadata": {},
   "outputs": [
    {
     "name": "stdout",
     "output_type": "stream",
     "text": [
      "[ True False  True False  True False  True False False]\n",
      "[2 4 6 2]\n"
     ]
    }
   ],
   "source": [
    "jk = np.array([2,3,4,9,6,7,2,5,7])\n",
    "\n",
    "f_jk = jk % 2 == 0\n",
    "\n",
    "njk = jk[f_jk]\n",
    "\n",
    "print(f_jk)\n",
    "print(njk)"
   ]
  },
  {
   "cell_type": "markdown",
   "id": "d7a993a4",
   "metadata": {},
   "source": [
    "# Tasks"
   ]
  },
  {
   "cell_type": "code",
   "execution_count": 3,
   "id": "843ab169",
   "metadata": {},
   "outputs": [
    {
     "name": "stdout",
     "output_type": "stream",
     "text": [
      "[2 6 7 9 2]\n"
     ]
    }
   ],
   "source": [
    "s = np.array([2,6,7,9,2])\n",
    "print(s)"
   ]
  },
  {
   "cell_type": "code",
   "execution_count": 4,
   "id": "58e77de2",
   "metadata": {},
   "outputs": [
    {
     "data": {
      "text/plain": [
       "array([[ 2,  3,  4],\n",
       "       [ 5,  6,  7],\n",
       "       [ 8,  9, 10]])"
      ]
     },
     "execution_count": 4,
     "metadata": {},
     "output_type": "execute_result"
    }
   ],
   "source": [
    "sdd = np.array([2,3,4,5,6,7,8,9,10])\n",
    "\n",
    "sdd.reshape(3,3)"
   ]
  },
  {
   "cell_type": "markdown",
   "id": "8b935d57",
   "metadata": {},
   "source": [
    "### Use of Arange Function"
   ]
  },
  {
   "cell_type": "code",
   "execution_count": 5,
   "id": "7e073625",
   "metadata": {},
   "outputs": [
    {
     "name": "stdout",
     "output_type": "stream",
     "text": [
      "[[ 2  3  4]\n",
      " [ 5  6  7]\n",
      " [ 8  9 10]]\n"
     ]
    }
   ],
   "source": [
    "x = np.arange(2,11).reshape(3,3)\n",
    "print(x)"
   ]
  },
  {
   "cell_type": "code",
   "execution_count": 6,
   "id": "9abac76a",
   "metadata": {},
   "outputs": [
    {
     "name": "stdout",
     "output_type": "stream",
     "text": [
      "[0. 0. 0. 0. 0. 0. 0. 0. 0. 0.]\n",
      "Update sixth value to 11\n",
      "[ 0.  0.  0.  0.  0.  0. 11.  0.  0.  0.]\n"
     ]
    }
   ],
   "source": [
    "v = np.zeros(10)\n",
    "print(v)\n",
    "print(\"Update sixth value to 11\")\n",
    "v[6] = 11\n",
    "print(v)"
   ]
  },
  {
   "cell_type": "markdown",
   "id": "3df2b321",
   "metadata": {},
   "source": [
    "# Random Numbers in NumPy"
   ]
  },
  {
   "cell_type": "markdown",
   "id": "cc7807ac",
   "metadata": {},
   "source": [
    "### Generate Random Number"
   ]
  },
  {
   "cell_type": "code",
   "execution_count": 10,
   "id": "b41aaf19",
   "metadata": {},
   "outputs": [
    {
     "ename": "NameError",
     "evalue": "name 'random' is not defined",
     "output_type": "error",
     "traceback": [
      "\u001b[1;31m---------------------------------------------------------------------------\u001b[0m",
      "\u001b[1;31mNameError\u001b[0m                                 Traceback (most recent call last)",
      "\u001b[1;32m~\\AppData\\Local\\Temp\\ipykernel_23056\\3143308842.py\u001b[0m in \u001b[0;36m<module>\u001b[1;34m\u001b[0m\n\u001b[1;32m----> 1\u001b[1;33m \u001b[0mx\u001b[0m \u001b[1;33m=\u001b[0m \u001b[0mrandom\u001b[0m\u001b[1;33m.\u001b[0m\u001b[0mrandint\u001b[0m\u001b[1;33m(\u001b[0m\u001b[1;36m100\u001b[0m\u001b[1;33m)\u001b[0m\u001b[1;33m\u001b[0m\u001b[1;33m\u001b[0m\u001b[0m\n\u001b[0m\u001b[0;32m      2\u001b[0m \u001b[0mprint\u001b[0m\u001b[1;33m(\u001b[0m\u001b[0mx\u001b[0m\u001b[1;33m)\u001b[0m\u001b[1;33m\u001b[0m\u001b[1;33m\u001b[0m\u001b[0m\n",
      "\u001b[1;31mNameError\u001b[0m: name 'random' is not defined"
     ]
    }
   ],
   "source": [
    "x = random.randint(100)\n",
    "print(x)"
   ]
  },
  {
   "cell_type": "code",
   "execution_count": 16,
   "id": "98d6d4be",
   "metadata": {},
   "outputs": [
    {
     "name": "stdout",
     "output_type": "stream",
     "text": [
      "[12 13 14 15 16 17 18 19 20 21 22 23 24 25 26 27 28 29 30 31 32 33 34 35\n",
      " 36 37]\n"
     ]
    }
   ],
   "source": [
    "pe = np.arange(12,38)\n",
    "\n",
    "print(pe)"
   ]
  },
  {
   "cell_type": "code",
   "execution_count": 18,
   "id": "3f8e11d0",
   "metadata": {},
   "outputs": [
    {
     "name": "stdout",
     "output_type": "stream",
     "text": [
      "Original array\n",
      "[12 13 14 15 16 17 18 19 20 21 22 23 24 25 26 27 28 29 30 31 32 33 34 35\n",
      " 36 37]\n",
      "Reverse array\n",
      "[37 36 35 34 33 32 31 30 29 28 27 26 25 24 23 22 21 20 19 18 17 16 15 14\n",
      " 13 12]\n"
     ]
    }
   ],
   "source": [
    "re = np.arange(12,38)\n",
    "print(\"Original array\")\n",
    "print(re)\n",
    "re = re[::-1]\n",
    "print(\"Reverse array\")\n",
    "print(re)"
   ]
  },
  {
   "cell_type": "code",
   "execution_count": 19,
   "id": "8c108b6b",
   "metadata": {},
   "outputs": [
    {
     "name": "stdout",
     "output_type": "stream",
     "text": [
      "[1. 2. 3. 4.]\n"
     ]
    }
   ],
   "source": [
    "te = np.array([1,2,3,4], dtype = \"f\")\n",
    "print(te)"
   ]
  },
  {
   "cell_type": "code",
   "execution_count": 21,
   "id": "a8def662",
   "metadata": {},
   "outputs": [
    {
     "name": "stdout",
     "output_type": "stream",
     "text": [
      "Original array\n",
      "[1 2 3 4]\n",
      "Array converted to float type\n",
      "[1. 2. 3. 4.]\n"
     ]
    }
   ],
   "source": [
    "ew = np.array([1,2,3,4])\n",
    "\n",
    "print(\"Original array\")\n",
    "print(ew)\n",
    "we = np.asfarray(ew)\n",
    "print(\"Array converted to float type\")\n",
    "print(we)"
   ]
  },
  {
   "cell_type": "code",
   "execution_count": 26,
   "id": "9737b91b",
   "metadata": {},
   "outputs": [
    {
     "name": "stdout",
     "output_type": "stream",
     "text": [
      "Original array\n",
      "[[1. 1. 1. 1. 1. 1. 1.]\n",
      " [1. 1. 1. 1. 1. 1. 1.]\n",
      " [1. 1. 1. 1. 1. 1. 1.]\n",
      " [1. 1. 1. 1. 1. 1. 1.]\n",
      " [1. 1. 1. 1. 1. 1. 1.]]\n",
      "1 on the border and 0 inside the array\n",
      "[[1. 1. 1. 1. 1. 1. 1.]\n",
      " [1. 0. 0. 0. 0. 0. 1.]\n",
      " [1. 0. 0. 0. 0. 0. 1.]\n",
      " [1. 0. 0. 0. 0. 0. 1.]\n",
      " [1. 1. 1. 1. 1. 1. 1.]]\n"
     ]
    }
   ],
   "source": [
    "mn = np.ones((5,7))\n",
    "print(\"Original array\")\n",
    "print(mn)\n",
    "mn[1:-1,1:-1] = 0\n",
    "print(\"1 on the border and 0 inside the array\")\n",
    "print(mn)"
   ]
  },
  {
   "cell_type": "code",
   "execution_count": null,
   "id": "c924f637",
   "metadata": {},
   "outputs": [],
   "source": []
  }
 ],
 "metadata": {
  "kernelspec": {
   "display_name": "Python 3 (ipykernel)",
   "language": "python",
   "name": "python3"
  },
  "language_info": {
   "codemirror_mode": {
    "name": "ipython",
    "version": 3
   },
   "file_extension": ".py",
   "mimetype": "text/x-python",
   "name": "python",
   "nbconvert_exporter": "python",
   "pygments_lexer": "ipython3",
   "version": "3.9.13"
  }
 },
 "nbformat": 4,
 "nbformat_minor": 5
}
