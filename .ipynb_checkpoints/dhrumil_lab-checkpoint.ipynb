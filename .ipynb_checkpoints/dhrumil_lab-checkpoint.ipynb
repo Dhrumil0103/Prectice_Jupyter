{
 "cells": [
  {
   "cell_type": "code",
   "execution_count": null,
   "id": "a7856e8e",
   "metadata": {},
   "outputs": [],
   "source": [
    "r = open(\"dhrumil.txt\", \"x\")"
   ]
  },
  {
   "cell_type": "code",
   "execution_count": 33,
   "id": "cbf7e126",
   "metadata": {},
   "outputs": [],
   "source": [
    "c = open(\"dhrumil.txt\", \"w\")\n",
    "c.write(\"Good morning Dhrumil our lecture is running.\")\n",
    "c.close()"
   ]
  },
  {
   "cell_type": "code",
   "execution_count": 36,
   "id": "a8c3270d",
   "metadata": {},
   "outputs": [
    {
     "data": {
      "text/plain": [
       "'Good morning Dhrumil our lecture is running.our first lecture'"
      ]
     },
     "execution_count": 36,
     "metadata": {},
     "output_type": "execute_result"
    }
   ],
   "source": [
    "c = open(\"dhrumil.txt\", \"r\")\n",
    "c.read()"
   ]
  },
  {
   "cell_type": "code",
   "execution_count": 35,
   "id": "e4a1309b",
   "metadata": {},
   "outputs": [],
   "source": [
    "d = open(\"dhrumil.txt\", \"a\")\n",
    "d.write(\"our first lecture\")\n",
    "d.close()"
   ]
  },
  {
   "cell_type": "code",
   "execution_count": 37,
   "id": "61231b7d",
   "metadata": {},
   "outputs": [],
   "source": [
    "d = open(\"dhrumil.txt\", \"w\")\n",
    "d.write(\"dk dk dk dk \")\n",
    "d.close()"
   ]
  },
  {
   "cell_type": "code",
   "execution_count": 38,
   "id": "631179d0",
   "metadata": {},
   "outputs": [],
   "source": [
    "d = open(\"dhrumil.txt\", \"a\")\n",
    "d.write(\"\\nindia\\n\"\n",
    "       \"is my\\n\"\n",
    "       \"country\")\n",
    "d.close()"
   ]
  },
  {
   "cell_type": "code",
   "execution_count": 39,
   "id": "0698026b",
   "metadata": {},
   "outputs": [
    {
     "data": {
      "text/plain": [
       "'dk dk dk dk \\nindia\\nis my\\ncountry'"
      ]
     },
     "execution_count": 39,
     "metadata": {},
     "output_type": "execute_result"
    }
   ],
   "source": [
    "c = open(\"dhrumil.txt\", \"r\")\n",
    "c.read()"
   ]
  },
  {
   "cell_type": "code",
   "execution_count": 40,
   "id": "c3ae908c",
   "metadata": {},
   "outputs": [
    {
     "data": {
      "text/plain": [
       "'dk dk dk dk \\n'"
      ]
     },
     "execution_count": 40,
     "metadata": {},
     "output_type": "execute_result"
    }
   ],
   "source": [
    "c = open(\"dhrumil.txt\", \"r\")\n",
    "c.readline()"
   ]
  },
  {
   "cell_type": "code",
   "execution_count": 41,
   "id": "b697a781",
   "metadata": {},
   "outputs": [
    {
     "data": {
      "text/plain": [
       "['dk dk dk dk \\n', 'india\\n', 'is my\\n', 'country']"
      ]
     },
     "execution_count": 41,
     "metadata": {},
     "output_type": "execute_result"
    }
   ],
   "source": [
    "c = open(\"dhrumil.txt\", \"r\")\n",
    "c.readlines()"
   ]
  },
  {
   "cell_type": "code",
   "execution_count": 42,
   "id": "89dd553c",
   "metadata": {},
   "outputs": [
    {
     "data": {
      "text/plain": [
       "['dk dk dk dk \\n']"
      ]
     },
     "execution_count": 42,
     "metadata": {},
     "output_type": "execute_result"
    }
   ],
   "source": [
    "c = open(\"dhrumil.txt\", \"r\")\n",
    "c.readlines(2)"
   ]
  },
  {
   "cell_type": "code",
   "execution_count": 60,
   "id": "8469374c",
   "metadata": {},
   "outputs": [],
   "source": [
    "c = open(\"dhrumil.txt\", \"r\")\n",
    "#c.readline()"
   ]
  },
  {
   "cell_type": "code",
   "execution_count": 61,
   "id": "500b4e9c",
   "metadata": {},
   "outputs": [
    {
     "data": {
      "text/plain": [
       "'dk dk'"
      ]
     },
     "execution_count": 61,
     "metadata": {},
     "output_type": "execute_result"
    }
   ],
   "source": [
    "c.readline(5)"
   ]
  },
  {
   "cell_type": "code",
   "execution_count": 64,
   "id": "a68233bb",
   "metadata": {},
   "outputs": [],
   "source": [
    "c.close()"
   ]
  },
  {
   "cell_type": "code",
   "execution_count": 62,
   "id": "01673a2e",
   "metadata": {},
   "outputs": [
    {
     "data": {
      "text/plain": [
       "' dk dk'"
      ]
     },
     "execution_count": 62,
     "metadata": {},
     "output_type": "execute_result"
    }
   ],
   "source": [
    "c.readline(6)"
   ]
  },
  {
   "cell_type": "code",
   "execution_count": 63,
   "id": "8a5f6a53",
   "metadata": {},
   "outputs": [
    {
     "data": {
      "text/plain": [
       "' \\n'"
      ]
     },
     "execution_count": 63,
     "metadata": {},
     "output_type": "execute_result"
    }
   ],
   "source": [
    "c.readline(2)"
   ]
  },
  {
   "cell_type": "code",
   "execution_count": 67,
   "id": "8a1af73b",
   "metadata": {},
   "outputs": [
    {
     "name": "stdout",
     "output_type": "stream",
     "text": [
      "17\n"
     ]
    }
   ],
   "source": [
    "s = 34\n",
    "v = 2\n",
    "b = s/v\n",
    "print(int(b))"
   ]
  },
  {
   "cell_type": "code",
   "execution_count": 68,
   "id": "457ffd56",
   "metadata": {},
   "outputs": [
    {
     "ename": "ZeroDivisionError",
     "evalue": "division by zero",
     "output_type": "error",
     "traceback": [
      "\u001b[1;31m---------------------------------------------------------------------------\u001b[0m",
      "\u001b[1;31mZeroDivisionError\u001b[0m                         Traceback (most recent call last)",
      "\u001b[1;32m~\\AppData\\Local\\Temp\\ipykernel_3436\\2535921766.py\u001b[0m in \u001b[0;36m<module>\u001b[1;34m\u001b[0m\n\u001b[0;32m      1\u001b[0m \u001b[0ms\u001b[0m \u001b[1;33m=\u001b[0m \u001b[1;36m34\u001b[0m\u001b[1;33m\u001b[0m\u001b[1;33m\u001b[0m\u001b[0m\n\u001b[0;32m      2\u001b[0m \u001b[0mv\u001b[0m \u001b[1;33m=\u001b[0m \u001b[1;36m0\u001b[0m\u001b[1;33m\u001b[0m\u001b[1;33m\u001b[0m\u001b[0m\n\u001b[1;32m----> 3\u001b[1;33m \u001b[0mb\u001b[0m \u001b[1;33m=\u001b[0m \u001b[0ms\u001b[0m\u001b[1;33m/\u001b[0m\u001b[0mv\u001b[0m\u001b[1;33m\u001b[0m\u001b[1;33m\u001b[0m\u001b[0m\n\u001b[0m\u001b[0;32m      4\u001b[0m \u001b[0mprint\u001b[0m\u001b[1;33m(\u001b[0m\u001b[0mb\u001b[0m\u001b[1;33m)\u001b[0m\u001b[1;33m\u001b[0m\u001b[1;33m\u001b[0m\u001b[0m\n",
      "\u001b[1;31mZeroDivisionError\u001b[0m: division by zero"
     ]
    }
   ],
   "source": [
    "s = 34\n",
    "v = 0\n",
    "b = s/v\n",
    "print(b)"
   ]
  },
  {
   "cell_type": "code",
   "execution_count": 71,
   "id": "2d80b0cb",
   "metadata": {},
   "outputs": [
    {
     "name": "stdout",
     "output_type": "stream",
     "text": [
      "8.5\n",
      "Always there\n"
     ]
    }
   ],
   "source": [
    "s = 34\n",
    "v = 4\n",
    "try:\n",
    "    b = s/v\n",
    "    print(b)\n",
    "    \n",
    "except ZeroDivisionError :\n",
    "    print(\"No Error\")\n",
    "    \n",
    "print(\"Always there\")\n",
    "    "
   ]
  },
  {
   "cell_type": "code",
   "execution_count": 72,
   "id": "39a17e68",
   "metadata": {},
   "outputs": [
    {
     "name": "stdout",
     "output_type": "stream",
     "text": [
      "8.5\n",
      "No Error\n",
      "Always there\n"
     ]
    }
   ],
   "source": [
    "s = 34\n",
    "v = 0\n",
    "try:\n",
    "    b = s/v\n",
    "    print(b)\n",
    "    \n",
    "except ZeroDivisionError:\n",
    "    print(b)\n",
    "    print(\"No Error\")\n",
    "    \n",
    "print(\"Always there\")"
   ]
  },
  {
   "cell_type": "code",
   "execution_count": 75,
   "id": "da6d877b",
   "metadata": {},
   "outputs": [
    {
     "name": "stdout",
     "output_type": "stream",
     "text": [
      "17.0\n",
      "I am here\n",
      "Always there\n"
     ]
    }
   ],
   "source": [
    "s = 34\n",
    "v = 2\n",
    "try:\n",
    "    b = s/v\n",
    "    print(b)\n",
    "    \n",
    "except ZeroDivisionError:\n",
    "    print(\"No Error\")\n",
    "    \n",
    "else:\n",
    "    print(\"I am here\")\n",
    "    \n",
    "print(\"Always there\")"
   ]
  },
  {
   "cell_type": "code",
   "execution_count": 76,
   "id": "9bca935a",
   "metadata": {},
   "outputs": [
    {
     "name": "stdout",
     "output_type": "stream",
     "text": [
      "No Error\n",
      "Always there\n"
     ]
    }
   ],
   "source": [
    "s = 34\n",
    "v = 0\n",
    "try:\n",
    "    b = s/v\n",
    "    print(b)\n",
    "    \n",
    "except ZeroDivisionError:\n",
    "    print(\"No Error\")\n",
    "    \n",
    "else:\n",
    "    print(\"I am here\")\n",
    "    \n",
    "    \n",
    "print(\"Always there\")"
   ]
  },
  {
   "cell_type": "code",
   "execution_count": 77,
   "id": "096c0536",
   "metadata": {},
   "outputs": [
    {
     "ename": "NameError",
     "evalue": "name 'm' is not defined",
     "output_type": "error",
     "traceback": [
      "\u001b[1;31m---------------------------------------------------------------------------\u001b[0m",
      "\u001b[1;31mNameError\u001b[0m                                 Traceback (most recent call last)",
      "\u001b[1;32m~\\AppData\\Local\\Temp\\ipykernel_3436\\3838137714.py\u001b[0m in \u001b[0;36m<module>\u001b[1;34m\u001b[0m\n\u001b[0;32m      2\u001b[0m \u001b[0mv\u001b[0m \u001b[1;33m=\u001b[0m \u001b[1;36m5\u001b[0m\u001b[1;33m\u001b[0m\u001b[1;33m\u001b[0m\u001b[0m\n\u001b[0;32m      3\u001b[0m \u001b[1;32mtry\u001b[0m\u001b[1;33m:\u001b[0m\u001b[1;33m\u001b[0m\u001b[1;33m\u001b[0m\u001b[0m\n\u001b[1;32m----> 4\u001b[1;33m     \u001b[0mb\u001b[0m \u001b[1;33m=\u001b[0m \u001b[0ms\u001b[0m\u001b[1;33m/\u001b[0m\u001b[0mm\u001b[0m\u001b[1;33m\u001b[0m\u001b[1;33m\u001b[0m\u001b[0m\n\u001b[0m\u001b[0;32m      5\u001b[0m     \u001b[0mprint\u001b[0m\u001b[1;33m(\u001b[0m\u001b[0mb\u001b[0m\u001b[1;33m)\u001b[0m\u001b[1;33m\u001b[0m\u001b[1;33m\u001b[0m\u001b[0m\n\u001b[0;32m      6\u001b[0m \u001b[1;33m\u001b[0m\u001b[0m\n",
      "\u001b[1;31mNameError\u001b[0m: name 'm' is not defined"
     ]
    }
   ],
   "source": [
    "s = 34\n",
    "v = 5\n",
    "try:\n",
    "    b = s/m\n",
    "    print(b)\n",
    "    \n",
    "except ZeroDivisionError:\n",
    "    print(\"No Error\")\n",
    "    \n",
    "else:\n",
    "    print(\"I am here\")\n",
    "    \n",
    "print(\"Always there\")"
   ]
  },
  {
   "cell_type": "code",
   "execution_count": 81,
   "id": "b2cb5507",
   "metadata": {},
   "outputs": [
    {
     "name": "stdout",
     "output_type": "stream",
     "text": [
      "name is perfect\n",
      "Always there\n"
     ]
    }
   ],
   "source": [
    "s = 34\n",
    "v = 5\n",
    "try:\n",
    "    b = s/n\n",
    "    print(b)\n",
    "    \n",
    "except ZeroDivisionError:\n",
    "    print(\"No Error\")\n",
    "    \n",
    "except NameError:\n",
    "    print(\"name is perfect\")\n",
    "    \n",
    "else:\n",
    "    print(\"I am here\")\n",
    "    \n",
    "print(\"Always there\")"
   ]
  },
  {
   "cell_type": "code",
   "execution_count": null,
   "id": "52941024",
   "metadata": {},
   "outputs": [],
   "source": []
  }
 ],
 "metadata": {
  "kernelspec": {
   "display_name": "Python 3 (ipykernel)",
   "language": "python",
   "name": "python3"
  },
  "language_info": {
   "codemirror_mode": {
    "name": "ipython",
    "version": 3
   },
   "file_extension": ".py",
   "mimetype": "text/x-python",
   "name": "python",
   "nbconvert_exporter": "python",
   "pygments_lexer": "ipython3",
   "version": "3.9.13"
  }
 },
 "nbformat": 4,
 "nbformat_minor": 5
}
