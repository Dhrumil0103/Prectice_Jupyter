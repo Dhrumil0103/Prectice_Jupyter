{
 "cells": [
  {
   "cell_type": "code",
   "execution_count": 1,
   "id": "da12a6b6",
   "metadata": {},
   "outputs": [
    {
     "name": "stdout",
     "output_type": "stream",
     "text": [
      "Enter the days: 430\n",
      "years: 1\n",
      "months: 2\n"
     ]
    }
   ],
   "source": [
    "d = int(input(\"Enter the days: \"))\n",
    "\n",
    "years = int(d / 365)\n",
    "\n",
    "month = int(d % 365) // 30\n",
    "\n",
    "print(\"years:\",years)\n",
    "print(\"months:\",month)"
   ]
  },
  {
   "cell_type": "code",
   "execution_count": 2,
   "id": "ae574fd9",
   "metadata": {},
   "outputs": [
    {
     "name": "stdout",
     "output_type": "stream",
     "text": [
      "input the year: 2\n",
      "days: 730\n"
     ]
    }
   ],
   "source": [
    "y = int(input(\"input the year: \"))\n",
    "\n",
    "days = int(y * 365)\n",
    "print(\"days:\",days)"
   ]
  },
  {
   "cell_type": "code",
   "execution_count": 3,
   "id": "76907a3a",
   "metadata": {},
   "outputs": [
    {
     "name": "stdout",
     "output_type": "stream",
     "text": [
      "Enter the year: 2024\n",
      "year: 2024 - is a leap year\n"
     ]
    }
   ],
   "source": [
    "year = int(input(\"Enter the year: \"))\n",
    "\n",
    "if (year % 400 == 0) and (year % 100 == 0):\n",
    "    print(f\"year: {year} - is a leap year\")\n",
    "elif (year % 4 == 0):\n",
    "    print(f\"year: {year} - is a leap year\")\n",
    "else:\n",
    "    print(f\"year: {year} - is not a leap year\")"
   ]
  },
  {
   "cell_type": "code",
   "execution_count": 4,
   "id": "1bded07e",
   "metadata": {},
   "outputs": [
    {
     "name": "stdout",
     "output_type": "stream",
     "text": [
      "enter num 1: 50\n",
      "enter num 2: 70\n",
      "enter num 3: 60\n",
      "Num 2= 70 Is Greatest\n"
     ]
    }
   ],
   "source": [
    "a = int(input(\"enter num 1: \"))\n",
    "b = int(input(\"enter num 2: \"))\n",
    "c = int(input(\"enter num 3: \"))\n",
    "\n",
    "if (a > b and a > c):\n",
    "    print(f\"Num 1= {a} Is Greatest\")\n",
    "elif(b > a and b > c):\n",
    "    print(f\"Num 2= {b} Is Greatest\")\n",
    "elif(c > b and c > a):\n",
    "    print(f\"Num 3= {c} Is Greatest\")\n",
    "else:\n",
    "    print(\"All numbers are same\")"
   ]
  },
  {
   "cell_type": "code",
   "execution_count": 8,
   "id": "37f702f4",
   "metadata": {},
   "outputs": [
    {
     "name": "stdout",
     "output_type": "stream",
     "text": [
      "Enter marks of exam 1: 70\n",
      "Enter marks of exam 2: 54\n",
      "Enter marks of exam 3: 67\n",
      "Enter marks of exam 4: 83\n",
      "You have Successfully pass the exam\n"
     ]
    }
   ],
   "source": [
    "m1 = int(input(\"Enter marks of exam 1: \"))\n",
    "\n",
    "if (m1 >= 40):\n",
    "    m2 = int(input(\"Enter marks of exam 2: \"))\n",
    "    if (m2 >= 40):\n",
    "        m3 = int(input(\"Enter marks of exam 3: \"))\n",
    "        if (m3 >= 40):\n",
    "            m4 = int(input(\"Enter marks of exam 4: \"))\n",
    "            if (m4 >=55):\n",
    "                print(\"You have Successfully pass the exam\")\n",
    "            else:\n",
    "                print(\"Failed\")\n",
    "        else:\n",
    "            print(\"Failed\")    \n",
    "    else:\n",
    "        print(\"Failed\")\n",
    "else:\n",
    "    print(\"Failed\")"
   ]
  },
  {
   "cell_type": "code",
   "execution_count": 3,
   "id": "8f8ab44f",
   "metadata": {},
   "outputs": [
    {
     "name": "stdout",
     "output_type": "stream",
     "text": [
      "Enter marks of exam 1: 45\n",
      "Enter marks of exam 2: 67\n",
      "Enter marks of exam 3: 80\n",
      "Enter marks of exam 4: 47\n",
      "Failed\n"
     ]
    }
   ],
   "source": [
    "n1 = int(input(\"Enter marks of exam 1: \"))\n",
    "if (n1 >= 40):\n",
    "    n2 = int(input(\"Enter marks of exam 2: \"))\n",
    "    if (n2 >= 40):\n",
    "        n3 = int(input(\"Enter marks of exam 3: \"))\n",
    "        if (n3 >= 40):\n",
    "            n4 = int(input(\"Enter marks of exam 4: \"))\n",
    "            if (n4 >= 55):\n",
    "                print(\"You have successfully pass the exam\")\n",
    "            else:\n",
    "                print(\"Failed\")\n",
    "        else:\n",
    "            print(\"Failed\")\n",
    "    else:\n",
    "        print(\"Failed\")\n",
    "else:\n",
    "    print(\"Failed\")"
   ]
  },
  {
   "cell_type": "code",
   "execution_count": 1,
   "id": "b75f45df",
   "metadata": {},
   "outputs": [
    {
     "name": "stdout",
     "output_type": "stream",
     "text": [
      "Enter marks 1: 95\n",
      "Enter marks 2: 90\n",
      "Enter marks 3: 75\n",
      "Enter marks 4: 82\n",
      "Enter marks 5: 88\n",
      "percentage:  86.0\n",
      "A Grade\n"
     ]
    }
   ],
   "source": [
    "s1 = int(input(\"Enter marks 1: \"))\n",
    "s2 = int(input(\"Enter marks 2: \"))\n",
    "s3 = int(input(\"Enter marks 3: \"))\n",
    "s4 = int(input(\"Enter marks 4: \"))\n",
    "s5 = int(input(\"Enter marks 5: \"))\n",
    "\n",
    "per = ((s1+s2+s3+s4+s5)*100)/500\n",
    "\n",
    "print(\"percentage: \",per)\n",
    "\n",
    "if (per >= 40 and per <=60):\n",
    "    print(\"C grade\")\n",
    "elif (per >= 61 and per <= 80):\n",
    "    print(\"B Grade\")\n",
    "elif (per >= 81 and per <= 100):\n",
    "    print(\"A Grade\")\n",
    "else:\n",
    "    print(\"Failed\")"
   ]
  },
  {
   "cell_type": "code",
   "execution_count": null,
   "id": "4150c758",
   "metadata": {},
   "outputs": [],
   "source": []
  }
 ],
 "metadata": {
  "kernelspec": {
   "display_name": "Python 3 (ipykernel)",
   "language": "python",
   "name": "python3"
  },
  "language_info": {
   "codemirror_mode": {
    "name": "ipython",
    "version": 3
   },
   "file_extension": ".py",
   "mimetype": "text/x-python",
   "name": "python",
   "nbconvert_exporter": "python",
   "pygments_lexer": "ipython3",
   "version": "3.9.13"
  }
 },
 "nbformat": 4,
 "nbformat_minor": 5
}
