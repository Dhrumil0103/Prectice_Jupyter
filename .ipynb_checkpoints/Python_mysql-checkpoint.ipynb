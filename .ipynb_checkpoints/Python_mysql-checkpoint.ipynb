{
 "cells": [
  {
   "cell_type": "code",
   "execution_count": 2,
   "id": "6201816d",
   "metadata": {},
   "outputs": [],
   "source": [
    "import mysql.connector\n",
    "import os\n",
    "\n",
    "mydb = mysql.connector.connect(\n",
    "    host=\"localhost\",\n",
    "    port=3306,\n",
    "    user=\"root\",\n",
    "    password=\"Dhru@7047\",database = \"aaj\")"
   ]
  },
  {
   "cell_type": "code",
   "execution_count": 3,
   "id": "c75c1296",
   "metadata": {},
   "outputs": [],
   "source": [
    "mycursor = mydb.cursor()"
   ]
  },
  {
   "cell_type": "code",
   "execution_count": 4,
   "id": "9a4c4ecf",
   "metadata": {},
   "outputs": [],
   "source": [
    "mycursor.execute('CREATE TABLE DRKANSARA(NAME VARCHAR(46))')"
   ]
  },
  {
   "cell_type": "code",
   "execution_count": 5,
   "id": "3c800ca7",
   "metadata": {},
   "outputs": [
    {
     "name": "stdout",
     "output_type": "stream",
     "text": [
      "('drkansara',)\n",
      "('mer',)\n",
      "('new_view1',)\n",
      "('new_view2',)\n",
      "('ter',)\n",
      "('timee',)\n",
      "('tre',)\n"
     ]
    }
   ],
   "source": [
    "mycursor.execute('SHOW TABLES')\n",
    "for y in mycursor:\n",
    "    print(y)"
   ]
  },
  {
   "cell_type": "code",
   "execution_count": null,
   "id": "8171b148",
   "metadata": {},
   "outputs": [],
   "source": []
  }
 ],
 "metadata": {
  "kernelspec": {
   "display_name": "Python 3 (ipykernel)",
   "language": "python",
   "name": "python3"
  },
  "language_info": {
   "codemirror_mode": {
    "name": "ipython",
    "version": 3
   },
   "file_extension": ".py",
   "mimetype": "text/x-python",
   "name": "python",
   "nbconvert_exporter": "python",
   "pygments_lexer": "ipython3",
   "version": "3.9.13"
  }
 },
 "nbformat": 4,
 "nbformat_minor": 5
}
