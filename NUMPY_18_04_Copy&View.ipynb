{
 "cells": [
  {
   "cell_type": "code",
   "execution_count": 1,
   "id": "50b9153a",
   "metadata": {},
   "outputs": [],
   "source": [
    "import numpy as np"
   ]
  },
  {
   "cell_type": "code",
   "execution_count": 2,
   "id": "6fb9e1f4",
   "metadata": {},
   "outputs": [
    {
     "name": "stdout",
     "output_type": "stream",
     "text": [
      "[[3 7 9]\n",
      " [4 8 6]]\n"
     ]
    }
   ],
   "source": [
    "tyy = np.array([[3,7,9],[4,8,6]])\n",
    "print(tyy)"
   ]
  },
  {
   "cell_type": "code",
   "execution_count": 4,
   "id": "97d20d8c",
   "metadata": {},
   "outputs": [
    {
     "name": "stdout",
     "output_type": "stream",
     "text": [
      "(2, 3)\n"
     ]
    }
   ],
   "source": [
    "print(tyy.shape)"
   ]
  },
  {
   "cell_type": "code",
   "execution_count": 5,
   "id": "ec7a5e97",
   "metadata": {},
   "outputs": [
    {
     "name": "stdout",
     "output_type": "stream",
     "text": [
      "[[3 7]\n",
      " [9 4]\n",
      " [8 6]]\n"
     ]
    }
   ],
   "source": [
    "print(tyy.reshape(3,2))"
   ]
  },
  {
   "cell_type": "code",
   "execution_count": 6,
   "id": "7233b81b",
   "metadata": {},
   "outputs": [
    {
     "name": "stdout",
     "output_type": "stream",
     "text": [
      "[[3 7 9]\n",
      " [4 8 6]]\n"
     ]
    }
   ],
   "source": [
    "print(tyy)"
   ]
  },
  {
   "cell_type": "code",
   "execution_count": 7,
   "id": "9a4c15c5",
   "metadata": {},
   "outputs": [
    {
     "name": "stdout",
     "output_type": "stream",
     "text": [
      "[[3]\n",
      " [7]\n",
      " [9]\n",
      " [4]\n",
      " [8]\n",
      " [6]]\n"
     ]
    }
   ],
   "source": [
    "print(tyy.reshape(6,1))"
   ]
  },
  {
   "cell_type": "code",
   "execution_count": 8,
   "id": "e5acee85",
   "metadata": {},
   "outputs": [
    {
     "name": "stdout",
     "output_type": "stream",
     "text": [
      "[[3 7 9 4 8 6]]\n"
     ]
    }
   ],
   "source": [
    "print(tyy.reshape(1,6))"
   ]
  },
  {
   "cell_type": "code",
   "execution_count": 9,
   "id": "ef8ee043",
   "metadata": {},
   "outputs": [
    {
     "name": "stdout",
     "output_type": "stream",
     "text": [
      "[[ 9 21 27]\n",
      " [12 24 18]]\n"
     ]
    }
   ],
   "source": [
    "print(tyy*3)"
   ]
  },
  {
   "cell_type": "code",
   "execution_count": 10,
   "id": "49394ff7",
   "metadata": {},
   "outputs": [],
   "source": [
    "gh = np.array([2,9,6,4])\n",
    "t = gh.copy()"
   ]
  },
  {
   "cell_type": "code",
   "execution_count": 11,
   "id": "b4a01597",
   "metadata": {},
   "outputs": [
    {
     "data": {
      "text/plain": [
       "array([2, 9, 6, 4])"
      ]
     },
     "execution_count": 11,
     "metadata": {},
     "output_type": "execute_result"
    }
   ],
   "source": [
    "gh"
   ]
  },
  {
   "cell_type": "code",
   "execution_count": 12,
   "id": "1f7c8cec",
   "metadata": {},
   "outputs": [
    {
     "data": {
      "text/plain": [
       "array([2, 9, 6, 4])"
      ]
     },
     "execution_count": 12,
     "metadata": {},
     "output_type": "execute_result"
    }
   ],
   "source": [
    "t"
   ]
  },
  {
   "cell_type": "code",
   "execution_count": 13,
   "id": "527459b6",
   "metadata": {},
   "outputs": [],
   "source": [
    "t[2] = 3"
   ]
  },
  {
   "cell_type": "code",
   "execution_count": 14,
   "id": "de8d54ac",
   "metadata": {},
   "outputs": [
    {
     "data": {
      "text/plain": [
       "array([2, 9, 6, 4])"
      ]
     },
     "execution_count": 14,
     "metadata": {},
     "output_type": "execute_result"
    }
   ],
   "source": [
    "gh"
   ]
  },
  {
   "cell_type": "code",
   "execution_count": 15,
   "id": "0859a1e6",
   "metadata": {},
   "outputs": [
    {
     "data": {
      "text/plain": [
       "array([2, 9, 3, 4])"
      ]
     },
     "execution_count": 15,
     "metadata": {},
     "output_type": "execute_result"
    }
   ],
   "source": [
    "t"
   ]
  },
  {
   "cell_type": "code",
   "execution_count": 16,
   "id": "c3da3c15",
   "metadata": {},
   "outputs": [],
   "source": [
    "gh_2 = np.array([7,2,6,4])\n",
    "t_2 = gh_2.view()"
   ]
  },
  {
   "cell_type": "code",
   "execution_count": 17,
   "id": "8bfd6730",
   "metadata": {},
   "outputs": [
    {
     "data": {
      "text/plain": [
       "array([7, 2, 6, 4])"
      ]
     },
     "execution_count": 17,
     "metadata": {},
     "output_type": "execute_result"
    }
   ],
   "source": [
    "gh_2"
   ]
  },
  {
   "cell_type": "code",
   "execution_count": 18,
   "id": "7ed735fd",
   "metadata": {},
   "outputs": [
    {
     "data": {
      "text/plain": [
       "array([7, 2, 6, 4])"
      ]
     },
     "execution_count": 18,
     "metadata": {},
     "output_type": "execute_result"
    }
   ],
   "source": [
    "t_2"
   ]
  },
  {
   "cell_type": "code",
   "execution_count": 19,
   "id": "273e5626",
   "metadata": {},
   "outputs": [],
   "source": [
    "t_2[1] = 3"
   ]
  },
  {
   "cell_type": "code",
   "execution_count": 20,
   "id": "a7915d3c",
   "metadata": {},
   "outputs": [
    {
     "data": {
      "text/plain": [
       "array([7, 3, 6, 4])"
      ]
     },
     "execution_count": 20,
     "metadata": {},
     "output_type": "execute_result"
    }
   ],
   "source": [
    "gh_2"
   ]
  },
  {
   "cell_type": "code",
   "execution_count": 21,
   "id": "68d2b7e4",
   "metadata": {},
   "outputs": [
    {
     "data": {
      "text/plain": [
       "array([7, 3, 6, 4])"
      ]
     },
     "execution_count": 21,
     "metadata": {},
     "output_type": "execute_result"
    }
   ],
   "source": [
    "t_2"
   ]
  },
  {
   "cell_type": "code",
   "execution_count": 22,
   "id": "736c3d90",
   "metadata": {},
   "outputs": [
    {
     "name": "stdout",
     "output_type": "stream",
     "text": [
      "[3 5 6 7]\n",
      "(4,)\n"
     ]
    }
   ],
   "source": [
    "vc = np.array([3,5,6,7])\n",
    "print(vc)\n",
    "print(vc.shape)"
   ]
  },
  {
   "cell_type": "code",
   "execution_count": 23,
   "id": "c117be7c",
   "metadata": {},
   "outputs": [
    {
     "name": "stdout",
     "output_type": "stream",
     "text": [
      "[[[[[6 7 2 9]]]]]\n",
      "(1, 1, 1, 1, 4)\n"
     ]
    }
   ],
   "source": [
    "vcx = np.array([6,7,2,9], ndmin = 5)\n",
    "print(vcx)\n",
    "print(vcx.shape)"
   ]
  },
  {
   "cell_type": "code",
   "execution_count": 24,
   "id": "5bda8662",
   "metadata": {},
   "outputs": [
    {
     "name": "stdout",
     "output_type": "stream",
     "text": [
      "5\n"
     ]
    }
   ],
   "source": [
    "print(vcx.ndim)"
   ]
  },
  {
   "cell_type": "code",
   "execution_count": 25,
   "id": "dcdd26c8",
   "metadata": {},
   "outputs": [
    {
     "name": "stdout",
     "output_type": "stream",
     "text": [
      "1\n"
     ]
    }
   ],
   "source": [
    "print(gh.ndim)"
   ]
  },
  {
   "cell_type": "code",
   "execution_count": 26,
   "id": "6b639935",
   "metadata": {},
   "outputs": [
    {
     "name": "stdout",
     "output_type": "stream",
     "text": [
      "2\n"
     ]
    }
   ],
   "source": [
    "print(tyy.ndim)"
   ]
  },
  {
   "cell_type": "code",
   "execution_count": 27,
   "id": "f1684ced",
   "metadata": {},
   "outputs": [],
   "source": [
    "jk = np.array([6,1,9,3,7])"
   ]
  },
  {
   "cell_type": "code",
   "execution_count": 29,
   "id": "a8118860",
   "metadata": {},
   "outputs": [],
   "source": [
    "jk = np.array([6,1,9,3,7], ndmin = 8)"
   ]
  },
  {
   "cell_type": "code",
   "execution_count": 30,
   "id": "bc5886c3",
   "metadata": {},
   "outputs": [
    {
     "name": "stdout",
     "output_type": "stream",
     "text": [
      "(1, 1, 1, 1, 1, 1, 1, 5)\n"
     ]
    }
   ],
   "source": [
    "print(jk.shape)"
   ]
  },
  {
   "cell_type": "code",
   "execution_count": 31,
   "id": "a94106b6",
   "metadata": {},
   "outputs": [],
   "source": [
    "ad = np.array([1,2,3,4,5,6,7,8,9,10,11,12])"
   ]
  },
  {
   "cell_type": "code",
   "execution_count": 38,
   "id": "f938a617",
   "metadata": {},
   "outputs": [
    {
     "name": "stdout",
     "output_type": "stream",
     "text": [
      "[ 1  2  3  4  5  6  7  8  9 10 11 12]\n",
      "\n",
      "[[ 1  2  3]\n",
      " [ 4  5  6]\n",
      " [ 7  8  9]\n",
      " [10 11 12]]\n",
      "\n",
      "[[ 1  2  3  4]\n",
      " [ 5  6  7  8]\n",
      " [ 9 10 11 12]]\n",
      "\n",
      "[[ 1  2]\n",
      " [ 3  4]\n",
      " [ 5  6]\n",
      " [ 7  8]\n",
      " [ 9 10]\n",
      " [11 12]]\n",
      "\n",
      "[[ 1  2  3  4  5  6]\n",
      " [ 7  8  9 10 11 12]]\n",
      "\n",
      "[[ 1]\n",
      " [ 2]\n",
      " [ 3]\n",
      " [ 4]\n",
      " [ 5]\n",
      " [ 6]\n",
      " [ 7]\n",
      " [ 8]\n",
      " [ 9]\n",
      " [10]\n",
      " [11]\n",
      " [12]]\n",
      "\n"
     ]
    }
   ],
   "source": [
    "print(ad)\n",
    "print()\n",
    "print(ad.reshape(4,3))\n",
    "print()\n",
    "print(ad.reshape(3,4))\n",
    "print()\n",
    "print(ad.reshape(6,2))\n",
    "print()\n",
    "print(ad.reshape(2,6))\n",
    "print()\n",
    "print(ad.reshape(12,1))\n",
    "print()\n"
   ]
  },
  {
   "cell_type": "code",
   "execution_count": 41,
   "id": "b5f4aba7",
   "metadata": {},
   "outputs": [
    {
     "name": "stdout",
     "output_type": "stream",
     "text": [
      "[[1 2 3 4]\n",
      " [5 6 7 8]]\n",
      "\n",
      "[1 2 3 4]\n",
      "[5 6 7 8]\n",
      "\n",
      "1\n",
      "2\n",
      "3\n",
      "4\n",
      "5\n",
      "6\n",
      "7\n",
      "8\n"
     ]
    }
   ],
   "source": [
    "arr = np.array([[1,2,3,4],[5,6,7,8]])\n",
    "\n",
    "print(arr)\n",
    "print()\n",
    "\n",
    "for x in arr:\n",
    "    print(x)\n",
    "    \n",
    "print()\n",
    "\n",
    "for x in arr:\n",
    "    for y in x:\n",
    "        print(y)"
   ]
  },
  {
   "cell_type": "code",
   "execution_count": 50,
   "id": "35a21136",
   "metadata": {},
   "outputs": [
    {
     "name": "stdout",
     "output_type": "stream",
     "text": [
      "1\n",
      "3\n",
      "5\n",
      "7\n",
      "9\n"
     ]
    }
   ],
   "source": [
    "for k in range(1,10,2):\n",
    "    print(k)"
   ]
  },
  {
   "cell_type": "code",
   "execution_count": null,
   "id": "b1c4bdb1",
   "metadata": {},
   "outputs": [],
   "source": []
  }
 ],
 "metadata": {
  "kernelspec": {
   "display_name": "Python 3 (ipykernel)",
   "language": "python",
   "name": "python3"
  },
  "language_info": {
   "codemirror_mode": {
    "name": "ipython",
    "version": 3
   },
   "file_extension": ".py",
   "mimetype": "text/x-python",
   "name": "python",
   "nbconvert_exporter": "python",
   "pygments_lexer": "ipython3",
   "version": "3.9.13"
  }
 },
 "nbformat": 4,
 "nbformat_minor": 5
}
