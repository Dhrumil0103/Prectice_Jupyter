{
 "cells": [
  {
   "cell_type": "code",
   "execution_count": 1,
   "id": "6e94944b",
   "metadata": {},
   "outputs": [],
   "source": [
    "import numpy as np"
   ]
  },
  {
   "cell_type": "code",
   "execution_count": 2,
   "id": "e5149077",
   "metadata": {},
   "outputs": [
    {
     "name": "stdout",
     "output_type": "stream",
     "text": [
      "[1 2 3 4 5]\n"
     ]
    }
   ],
   "source": [
    "arr = np.array([1,2,3,4,5])\n",
    "\n",
    "print(arr)"
   ]
  },
  {
   "cell_type": "code",
   "execution_count": 3,
   "id": "712f4c67",
   "metadata": {},
   "outputs": [
    {
     "name": "stdout",
     "output_type": "stream",
     "text": [
      "1.21.5\n"
     ]
    }
   ],
   "source": [
    "print(np.__version__)"
   ]
  },
  {
   "cell_type": "markdown",
   "id": "988255b0",
   "metadata": {},
   "source": [
    "## NumPy Creating Arrays"
   ]
  },
  {
   "cell_type": "code",
   "execution_count": 4,
   "id": "8b6e3bf2",
   "metadata": {},
   "outputs": [
    {
     "name": "stdout",
     "output_type": "stream",
     "text": [
      "[1 2 3 4 5]\n",
      "<class 'numpy.ndarray'>\n"
     ]
    }
   ],
   "source": [
    "arr = np.array([1,2,3,4,5])\n",
    "\n",
    "print(arr)\n",
    "\n",
    "print(type(arr))"
   ]
  },
  {
   "cell_type": "code",
   "execution_count": 5,
   "id": "00f37a0d",
   "metadata": {},
   "outputs": [
    {
     "name": "stdout",
     "output_type": "stream",
     "text": [
      "[1 2 3 4 5]\n"
     ]
    }
   ],
   "source": [
    "arr = np.array((1,2,3,4,5))\n",
    "\n",
    "print(arr)"
   ]
  },
  {
   "cell_type": "markdown",
   "id": "381ad274",
   "metadata": {},
   "source": [
    "## Dimensions In Arrays"
   ]
  },
  {
   "cell_type": "markdown",
   "id": "fcfdb958",
   "metadata": {},
   "source": [
    "### 0 - D Arrays"
   ]
  },
  {
   "cell_type": "code",
   "execution_count": 6,
   "id": "5fb2fc33",
   "metadata": {},
   "outputs": [
    {
     "name": "stdout",
     "output_type": "stream",
     "text": [
      "43\n"
     ]
    }
   ],
   "source": [
    "arr = np.array(43)\n",
    "\n",
    "print(arr)"
   ]
  },
  {
   "cell_type": "markdown",
   "id": "bc56ff66",
   "metadata": {},
   "source": [
    "### 1 - D Arrays"
   ]
  },
  {
   "cell_type": "code",
   "execution_count": 7,
   "id": "6616460b",
   "metadata": {},
   "outputs": [
    {
     "name": "stdout",
     "output_type": "stream",
     "text": [
      "[2 3 6 8]\n"
     ]
    }
   ],
   "source": [
    "arr = np.array([2,3,6,8])\n",
    "\n",
    "print(arr)"
   ]
  },
  {
   "cell_type": "markdown",
   "id": "8fbdc508",
   "metadata": {},
   "source": [
    "### 2 - D Arrays"
   ]
  },
  {
   "cell_type": "code",
   "execution_count": 8,
   "id": "7f8d76fb",
   "metadata": {},
   "outputs": [
    {
     "name": "stdout",
     "output_type": "stream",
     "text": [
      "[[1 2 3]\n",
      " [4 5 6]]\n"
     ]
    }
   ],
   "source": [
    "arr = np.array([[1,2,3],[4,5,6]])\n",
    "\n",
    "print(arr)"
   ]
  },
  {
   "cell_type": "markdown",
   "id": "10728047",
   "metadata": {},
   "source": [
    "### 3 - D Arrays"
   ]
  },
  {
   "cell_type": "code",
   "execution_count": 19,
   "id": "4ea10b1f",
   "metadata": {},
   "outputs": [
    {
     "name": "stdout",
     "output_type": "stream",
     "text": [
      "[[[1 2 3]\n",
      "  [4 5 6]]\n",
      "\n",
      " [[7 8 9]\n",
      "  [0 1 2]]]\n",
      "Number Of Dimensions: 3\n"
     ]
    }
   ],
   "source": [
    "arr = np.array([[[1,2,3],[4,5,6]],[[7,8,9],[0,1,2]]])\n",
    "\n",
    "print(arr)\n",
    "\n",
    "print(\"Number Of Dimensions:\",arr.ndim)"
   ]
  },
  {
   "cell_type": "code",
   "execution_count": 20,
   "id": "4ffdc639",
   "metadata": {},
   "outputs": [
    {
     "name": "stdout",
     "output_type": "stream",
     "text": [
      "[[[9 8 7]\n",
      "  [6 5 4]\n",
      "  [3 2 1]]]\n",
      "Number of Dimensions: 3\n"
     ]
    }
   ],
   "source": [
    "arr = np.array([[[9,8,7],[6,5,4],[3,2,1]]])\n",
    "\n",
    "print(arr)\n",
    "print(\"Number of Dimensions:\",arr.ndim)"
   ]
  },
  {
   "cell_type": "code",
   "execution_count": 23,
   "id": "8fb604a0",
   "metadata": {},
   "outputs": [
    {
     "name": "stdout",
     "output_type": "stream",
     "text": [
      "[[[[[5 2 6]\n",
      "    [1 8 9]\n",
      "    [3 9 7]]]]]\n",
      "Number Of Dimensions: 5\n"
     ]
    }
   ],
   "source": [
    "ass = np.array([[[5,2,6],[1,8,9],[3,9,7]]], ndmin = 5)\n",
    "\n",
    "print(ass)\n",
    "print(\"Number Of Dimensions:\",ass.ndim)"
   ]
  },
  {
   "cell_type": "markdown",
   "id": "f912cd7a",
   "metadata": {},
   "source": [
    "## Check Number Of Dimensions"
   ]
  },
  {
   "cell_type": "code",
   "execution_count": 25,
   "id": "328a8a66",
   "metadata": {},
   "outputs": [
    {
     "name": "stdout",
     "output_type": "stream",
     "text": [
      "0\n",
      "1\n",
      "2\n",
      "3\n",
      "5\n"
     ]
    }
   ],
   "source": [
    "a = np.array(64)\n",
    "b = np.array([2,3,6,7])\n",
    "c = np.array([[3,6,8],[7,4,1]])\n",
    "d = np.array([[[1,2,3],[4,5,6]],[[7,8,9],[3,2,1]]])\n",
    "e = np.array([[3,6,8],[7,4,1]], ndmin = 5)\n",
    "\n",
    "print(a.ndim)\n",
    "print(b.ndim)\n",
    "print(c.ndim)\n",
    "print(d.ndim)\n",
    "print(e.ndim)"
   ]
  },
  {
   "cell_type": "markdown",
   "id": "a87343ba",
   "metadata": {},
   "source": [
    "## Higher Dimensional Arrays"
   ]
  },
  {
   "cell_type": "code",
   "execution_count": 27,
   "id": "16b55145",
   "metadata": {},
   "outputs": [
    {
     "name": "stdout",
     "output_type": "stream",
     "text": [
      "[[[[[1 2 3 4 5]]]]]\n",
      "Number Of Dimensions: 5\n"
     ]
    }
   ],
   "source": [
    "arr = np.array([1,2,3,4,5], ndmin = 5)\n",
    "\n",
    "print(arr)\n",
    "print(\"Number Of Dimensions:\",arr.ndim)"
   ]
  },
  {
   "cell_type": "markdown",
   "id": "4048481a",
   "metadata": {},
   "source": [
    "## NumPy Array Indexing"
   ]
  },
  {
   "cell_type": "code",
   "execution_count": 29,
   "id": "b4f5b01f",
   "metadata": {},
   "outputs": [
    {
     "name": "stdout",
     "output_type": "stream",
     "text": [
      "3\n"
     ]
    }
   ],
   "source": [
    "arr = np.array([1,2,3,4,5])\n",
    "\n",
    "print(arr[2])"
   ]
  },
  {
   "cell_type": "code",
   "execution_count": 30,
   "id": "0a47dbd6",
   "metadata": {},
   "outputs": [
    {
     "name": "stdout",
     "output_type": "stream",
     "text": [
      "6\n"
     ]
    }
   ],
   "source": [
    "arr = np.array([1,2,3,4,5])\n",
    "\n",
    "print(arr[1] + arr[3])"
   ]
  },
  {
   "cell_type": "code",
   "execution_count": 31,
   "id": "84e2b55c",
   "metadata": {},
   "outputs": [
    {
     "name": "stdout",
     "output_type": "stream",
     "text": [
      "8\n"
     ]
    }
   ],
   "source": [
    "arr = np.array([1,2,3,4,5])\n",
    "\n",
    "print(arr[1] * arr[3])"
   ]
  },
  {
   "cell_type": "markdown",
   "id": "42e85c36",
   "metadata": {},
   "source": [
    "### Access 2 - D Arrays"
   ]
  },
  {
   "cell_type": "code",
   "execution_count": 32,
   "id": "8faa9f52",
   "metadata": {},
   "outputs": [
    {
     "name": "stdout",
     "output_type": "stream",
     "text": [
      "3rd Element Of 2nd Row: 7\n"
     ]
    }
   ],
   "source": [
    "arr = np.array([[1,2,3,4],[9,8,7,6]])\n",
    "\n",
    "print('3rd Element Of 2nd Row:', arr[1,2])"
   ]
  },
  {
   "cell_type": "code",
   "execution_count": 34,
   "id": "dbf62cf0",
   "metadata": {},
   "outputs": [
    {
     "name": "stdout",
     "output_type": "stream",
     "text": [
      "5th Element Of 1st Row: 7\n"
     ]
    }
   ],
   "source": [
    "arr = np.array([[1,2,3,4,7],[6,7,8,9,0]])\n",
    "\n",
    "print('5th Element Of 1st Row:', arr[0,4])"
   ]
  },
  {
   "cell_type": "code",
   "execution_count": 36,
   "id": "4d95ce31",
   "metadata": {},
   "outputs": [
    {
     "name": "stdout",
     "output_type": "stream",
     "text": [
      "6\n"
     ]
    }
   ],
   "source": [
    "arr = np.array([[[1,2,3],[4,5,6]],[[7,8,9],[10,11,12]]])\n",
    "\n",
    "print(arr[0,1,2])"
   ]
  },
  {
   "cell_type": "markdown",
   "id": "cf99aa2f",
   "metadata": {},
   "source": [
    "#### Example Explained\n",
    "arr[0, 1, 2] prints the value 6.\n",
    "\n",
    "And this is why:\n",
    "\n",
    "The first number represents the first dimension, which contains two arrays:\n",
    "[[1, 2, 3], [4, 5, 6]]\n",
    "and:\n",
    "[[7, 8, 9], [10, 11, 12]]\n",
    "Since we selected 0, we are left with the first array:\n",
    "[[1, 2, 3], [4, 5, 6]]\n",
    "\n",
    "The second number represents the second dimension, which also contains two arrays:\n",
    "[1, 2, 3]\n",
    "and:\n",
    "[4, 5, 6]\n",
    "Since we selected 1, we are left with the second array:\n",
    "[4, 5, 6]\n",
    "\n",
    "The third number represents the third dimension, which contains three values:\n",
    "4\n",
    "5\n",
    "6\n",
    "Since we selected 2, we end up with the third value:\n",
    "6"
   ]
  },
  {
   "cell_type": "markdown",
   "id": "bb96fa61",
   "metadata": {},
   "source": [
    "### Negative Indexing"
   ]
  },
  {
   "cell_type": "code",
   "execution_count": 38,
   "id": "8a602900",
   "metadata": {},
   "outputs": [
    {
     "name": "stdout",
     "output_type": "stream",
     "text": [
      "Last element of 2nd dim: 9\n"
     ]
    }
   ],
   "source": [
    "arr = np.array([[1,4,5,6,7],[2,6,7,4,9]])\n",
    "\n",
    "print('Last element of 2nd dim:' , arr[1,-1])"
   ]
  },
  {
   "cell_type": "markdown",
   "id": "a5116b60",
   "metadata": {},
   "source": [
    "## NumPy Array Slicing"
   ]
  },
  {
   "cell_type": "code",
   "execution_count": 44,
   "id": "edb1adad",
   "metadata": {},
   "outputs": [
    {
     "name": "stdout",
     "output_type": "stream",
     "text": [
      "[1 4 6]\n"
     ]
    }
   ],
   "source": [
    "arr = np.array([2,4,1,4,6,9])\n",
    "\n",
    "print(arr[2:5])"
   ]
  },
  {
   "cell_type": "code",
   "execution_count": 39,
   "id": "9964d4cd",
   "metadata": {},
   "outputs": [
    {
     "name": "stdout",
     "output_type": "stream",
     "text": [
      "[5 6 7]\n"
     ]
    }
   ],
   "source": [
    "arr = np.array([1,2,3,4,5,6,7])\n",
    "\n",
    "print(arr[4:])"
   ]
  },
  {
   "cell_type": "code",
   "execution_count": 43,
   "id": "4fdb4c06",
   "metadata": {},
   "outputs": [
    {
     "name": "stdout",
     "output_type": "stream",
     "text": [
      "[1 2 3 4 5 8]\n"
     ]
    }
   ],
   "source": [
    "arr = np.array([1,2,3,4,5,8,7])\n",
    "\n",
    "print(arr[:6])"
   ]
  },
  {
   "cell_type": "markdown",
   "id": "a7654008",
   "metadata": {},
   "source": [
    "### Negative Slicing"
   ]
  },
  {
   "cell_type": "code",
   "execution_count": 50,
   "id": "1c35e616",
   "metadata": {},
   "outputs": [
    {
     "name": "stdout",
     "output_type": "stream",
     "text": [
      "[7 6 5]\n"
     ]
    }
   ],
   "source": [
    "arr = np.array([9,8,7,6,5,4,3])\n",
    "\n",
    "print(arr[-5:-2])"
   ]
  },
  {
   "cell_type": "markdown",
   "id": "e5728348",
   "metadata": {},
   "source": [
    "### Step"
   ]
  },
  {
   "cell_type": "code",
   "execution_count": 49,
   "id": "8310c047",
   "metadata": {},
   "outputs": [
    {
     "name": "stdout",
     "output_type": "stream",
     "text": [
      "[2 4 6]\n"
     ]
    }
   ],
   "source": [
    "arr = np.array([1,2,3,4,5,6,7,8,9])\n",
    "\n",
    "print(arr[1:6:2])"
   ]
  },
  {
   "cell_type": "code",
   "execution_count": 54,
   "id": "968335ed",
   "metadata": {},
   "outputs": [
    {
     "name": "stdout",
     "output_type": "stream",
     "text": [
      "[1 3 5 7]\n"
     ]
    }
   ],
   "source": [
    "arr = np.array([1,2,3,4,5,6,7])\n",
    "\n",
    "print(arr[::2])"
   ]
  },
  {
   "cell_type": "code",
   "execution_count": 55,
   "id": "1b142502",
   "metadata": {},
   "outputs": [
    {
     "name": "stdout",
     "output_type": "stream",
     "text": [
      "[1 4 7]\n"
     ]
    }
   ],
   "source": [
    "arr = np.array([1,2,3,4,5,6,7])\n",
    "\n",
    "print(arr[::3])"
   ]
  },
  {
   "cell_type": "markdown",
   "id": "bc33385e",
   "metadata": {},
   "source": [
    "### Slicing 2 - D Arrays"
   ]
  },
  {
   "cell_type": "code",
   "execution_count": null,
   "id": "1e456efe",
   "metadata": {},
   "outputs": [],
   "source": []
  }
 ],
 "metadata": {
  "kernelspec": {
   "display_name": "Python 3 (ipykernel)",
   "language": "python",
   "name": "python3"
  },
  "language_info": {
   "codemirror_mode": {
    "name": "ipython",
    "version": 3
   },
   "file_extension": ".py",
   "mimetype": "text/x-python",
   "name": "python",
   "nbconvert_exporter": "python",
   "pygments_lexer": "ipython3",
   "version": "3.9.13"
  }
 },
 "nbformat": 4,
 "nbformat_minor": 5
}
