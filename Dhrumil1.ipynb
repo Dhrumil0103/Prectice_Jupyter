{
 "cells": [
  {
   "cell_type": "code",
   "execution_count": 1,
   "id": "f6dc5820",
   "metadata": {},
   "outputs": [],
   "source": [
    "d = open(\"Dhrumil1.txt\",\"x\")"
   ]
  },
  {
   "cell_type": "code",
   "execution_count": 2,
   "id": "c73a99c5",
   "metadata": {},
   "outputs": [],
   "source": [
    "d = open(\"Dhrumil1.txt\", \"w\")\n",
    "d.write(\"welcome to the python code\")\n",
    "d.close()"
   ]
  },
  {
   "cell_type": "code",
   "execution_count": 3,
   "id": "109e11ea",
   "metadata": {},
   "outputs": [
    {
     "data": {
      "text/plain": [
       "'welcome to the python code'"
      ]
     },
     "execution_count": 3,
     "metadata": {},
     "output_type": "execute_result"
    }
   ],
   "source": [
    "d = open(\"Dhrumil1.txt\")\n",
    "d.read()"
   ]
  },
  {
   "cell_type": "code",
   "execution_count": 4,
   "id": "10c98e98",
   "metadata": {},
   "outputs": [
    {
     "data": {
      "text/plain": [
       "'welc'"
      ]
     },
     "execution_count": 4,
     "metadata": {},
     "output_type": "execute_result"
    }
   ],
   "source": [
    "d = open(\"Dhrumil1.txt\")\n",
    "d.read(4)"
   ]
  },
  {
   "cell_type": "code",
   "execution_count": 5,
   "id": "762d18d0",
   "metadata": {},
   "outputs": [
    {
     "data": {
      "text/plain": [
       "'ome to the python code'"
      ]
     },
     "execution_count": 5,
     "metadata": {},
     "output_type": "execute_result"
    }
   ],
   "source": [
    "d.read()"
   ]
  },
  {
   "cell_type": "code",
   "execution_count": 6,
   "id": "85210022",
   "metadata": {},
   "outputs": [
    {
     "data": {
      "text/plain": [
       "3"
      ]
     },
     "execution_count": 6,
     "metadata": {},
     "output_type": "execute_result"
    }
   ],
   "source": [
    "d.seek(3)"
   ]
  },
  {
   "cell_type": "code",
   "execution_count": 7,
   "id": "1a72b345",
   "metadata": {},
   "outputs": [
    {
     "data": {
      "text/plain": [
       "'come to the python code'"
      ]
     },
     "execution_count": 7,
     "metadata": {},
     "output_type": "execute_result"
    }
   ],
   "source": [
    "d.read()"
   ]
  },
  {
   "cell_type": "code",
   "execution_count": 8,
   "id": "5d06ccb8",
   "metadata": {},
   "outputs": [
    {
     "data": {
      "text/plain": [
       "8"
      ]
     },
     "execution_count": 8,
     "metadata": {},
     "output_type": "execute_result"
    }
   ],
   "source": [
    "d.seek(8)"
   ]
  },
  {
   "cell_type": "code",
   "execution_count": 9,
   "id": "5f9e50bd",
   "metadata": {},
   "outputs": [
    {
     "data": {
      "text/plain": [
       "'to the python code'"
      ]
     },
     "execution_count": 9,
     "metadata": {},
     "output_type": "execute_result"
    }
   ],
   "source": [
    "d.read()"
   ]
  },
  {
   "cell_type": "code",
   "execution_count": 10,
   "id": "8beaa54f",
   "metadata": {},
   "outputs": [],
   "source": [
    "d.flush()\n",
    "d.close()"
   ]
  },
  {
   "cell_type": "code",
   "execution_count": null,
   "id": "f2db5831",
   "metadata": {},
   "outputs": [],
   "source": []
  }
 ],
 "metadata": {
  "kernelspec": {
   "display_name": "Python 3 (ipykernel)",
   "language": "python",
   "name": "python3"
  },
  "language_info": {
   "codemirror_mode": {
    "name": "ipython",
    "version": 3
   },
   "file_extension": ".py",
   "mimetype": "text/x-python",
   "name": "python",
   "nbconvert_exporter": "python",
   "pygments_lexer": "ipython3",
   "version": "3.9.13"
  }
 },
 "nbformat": 4,
 "nbformat_minor": 5
}
